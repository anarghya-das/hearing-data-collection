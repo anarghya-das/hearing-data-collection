{
 "cells": [
  {
   "cell_type": "code",
   "execution_count": null,
   "metadata": {},
   "outputs": [],
   "source": [
    "import os\n",
    "import mne\n",
    "import pyxdf\n",
    "import numpy as np\n",
    "from mne.preprocessing import ICA\n",
    "import matplotlib.pyplot as plt\n",
    "from mne_icalabel import label_components\n",
    "plt.style.use('default')\n",
    "%matplotlib qt\n",
    "from utils import read_data, calculate_power_spectrum, plot_power_spectrum\n",
    "import glob\n",
    "import autoreject"
   ]
  },
  {
   "cell_type": "code",
   "execution_count": null,
   "metadata": {},
   "outputs": [],
   "source": [
    "exp_path = os.path.join(\"exp_data\",\"02_Experimental\")\n",
    "control_path = os.path.join(\"exp_data\",\"01_Control\")\n",
    "glob_pattern = os.path.join(\"**\",\"*.xdf\")\n",
    "\n",
    "exp_files = glob.glob(os.path.join(exp_path,glob_pattern),recursive=True)\n",
    "control_files = glob.glob(os.path.join(control_path,glob_pattern),recursive=True)[:6]\n",
    "# exp_mapping, exp_common = get_event_names(control_files)\n",
    "# CTRL03-sub-129059-old error"
   ]
  },
  {
   "cell_type": "code",
   "execution_count": null,
   "metadata": {},
   "outputs": [],
   "source": [
    "raw, events, mapping = read_data(\n",
    "    exp_files[2], bandpass={'low': 2, 'high': 50}, flat_voltage=0.1)\n",
    "montage = mne.channels.read_custom_montage(\n",
    "    'ceegrid_coords.csv', coord_frame='head')\n",
    "raw.set_montage(montage)\n",
    "raw.interpolate_bads(reset_bads=True)\n",
    "event_type = 'ast_stim'\n",
    "group = 'all'\n",
    "epoch_trigger = mne.Epochs(\n",
    "    raw, events, event_id=mapping[event_type]['trigger'], tmin=-0.5, tmax=4, preload=True)\n",
    "epoch_neutral = mne.Epochs(\n",
    "    raw, events, event_id=mapping[event_type]['neutral'], tmin=-0.5, tmax=4, preload=True)\n",
    "epoch_all = mne.Epochs(\n",
    "    raw, events, event_id=mapping[event_type]['all'], tmin=-0.5, tmax=4, preload=True)"
   ]
  },
  {
   "cell_type": "code",
   "execution_count": null,
   "metadata": {},
   "outputs": [],
   "source": [
    "epoch = mne.Epochs(\n",
    "    raw, events, event_id={'neutral': 1, 'trigger': 2}, tmin=-0.2, tmax=4)\n",
    "epoch"
   ]
  },
  {
   "cell_type": "code",
   "execution_count": null,
   "metadata": {},
   "outputs": [],
   "source": [
    "epoch_all"
   ]
  },
  {
   "cell_type": "code",
   "execution_count": null,
   "metadata": {},
   "outputs": [],
   "source": [
    "raw.plot()"
   ]
  },
  {
   "cell_type": "code",
   "execution_count": null,
   "metadata": {},
   "outputs": [],
   "source": [
    "power, freqs = calculate_power_spectrum(\n",
    "    raw, fmin=2, fmax=50, method='welch')\n",
    "plot_power_spectrum(power, freqs, average_axis=(0))"
   ]
  },
  {
   "cell_type": "code",
   "execution_count": null,
   "metadata": {},
   "outputs": [],
   "source": [
    "power.shape"
   ]
  },
  {
   "cell_type": "code",
   "execution_count": null,
   "metadata": {},
   "outputs": [],
   "source": [
    "plot_power_spectrum(power, freqs)"
   ]
  },
  {
   "cell_type": "code",
   "execution_count": null,
   "metadata": {},
   "outputs": [],
   "source": [
    "ar = autoreject.AutoReject(n_interpolate=[1, 2, 3, 4], random_state=11,\n",
    "                           n_jobs=1, verbose=True)\n",
    "ar.fit(epoch_all)  # fit on a few epochs to save time\n",
    "epochs_ar, reject_log = ar.transform(epoch_all, return_log=True)"
   ]
  },
  {
   "cell_type": "code",
   "execution_count": null,
   "metadata": {},
   "outputs": [],
   "source": [
    "power_ar, freqs_ar = calculate_power_spectrum(epochs_ar, fmin=2, fmax=50)\n",
    "plot_power_spectrum(power_ar, freqs_ar)"
   ]
  },
  {
   "cell_type": "code",
   "execution_count": null,
   "metadata": {},
   "outputs": [],
   "source": [
    "left_ear = ['L1', 'L2', 'L4', 'L5', 'L7', 'L8', 'L9', 'L10']\n",
    "right_ear = ['R1', 'R2', 'R4', 'R5', 'R7', 'R8', 'R9', 'R10']\n",
    "\n",
    "evokeds = dict(trigger=epoch_trigger.average(), neutral=epoch_neutral.average())\n",
    "picks = left_ear\n",
    "mne.viz.plot_compare_evokeds(evokeds, picks=picks, combine=\"mean\")"
   ]
  },
  {
   "cell_type": "code",
   "execution_count": null,
   "metadata": {},
   "outputs": [],
   "source": [
    "freqs = np.logspace(*np.log10([1, 20]), num=8) # alpha band frequencies\n",
    "n_cycles = freqs / 2.0  # different number of cycle per frequency\n",
    "power, itc = exp_epoch['ast_stim-paper_crunching'].compute_tfr(\n",
    "    method=\"morlet\",\n",
    "    freqs=freqs,\n",
    "    n_cycles=n_cycles,\n",
    "    average=True,\n",
    "    return_itc=True,\n",
    "    decim=3,\n",
    ")"
   ]
  },
  {
   "cell_type": "code",
   "execution_count": null,
   "metadata": {},
   "outputs": [],
   "source": [
    "import matplotlib.pyplot as plt\n",
    "import numpy as np\n",
    "\n",
    "channels = power.ch_names\n",
    "n_channels = len(channels)\n",
    "n_cols = 4\n",
    "n_rows = int(np.ceil(n_channels / n_cols))\n",
    "\n",
    "fig, axes = plt.subplots(n_rows, n_cols, figsize=(16, 3 * n_rows))\n",
    "axes = axes.flatten()\n",
    "\n",
    "# Normalize each channel's power between 0 and 1\n",
    "for idx, ch in enumerate(channels):\n",
    "    data = power.data[idx]\n",
    "    data_norm = (data - data.min()) / (data.max() - data.min() + 1e-12)\n",
    "    im = axes[idx].imshow(\n",
    "        data_norm,\n",
    "        aspect='auto',\n",
    "        origin='lower',\n",
    "        extent=[power.times[0], power.times[-1], power.freqs[0], power.freqs[-1]],\n",
    "        vmin=0,\n",
    "        vmax=1,\n",
    "        cmap='Reds'\n",
    "    )\n",
    "    axes[idx].set_title(ch)\n",
    "    axes[idx].set_ylabel('Freq (Hz)')\n",
    "    axes[idx].set_xlabel('Time (s)')\n",
    "\n",
    "# Hide any unused subplots\n",
    "for ax in axes[n_channels:]:\n",
    "    ax.axis('off')\n",
    "\n",
    "# Add a single colorbar to the right\n",
    "fig.subplots_adjust(right=0.88)\n",
    "cbar_ax = fig.add_axes([0.90, 0.15, 0.02, 0.7])\n",
    "plt.colorbar(im, cax=cbar_ax)\n",
    "\n",
    "plt.tight_layout(rect=[0, 0, 0.88, 1])"
   ]
  },
  {
   "cell_type": "code",
   "execution_count": null,
   "metadata": {},
   "outputs": [],
   "source": [
    "import numpy as np\n",
    "\n",
    "# Define frequency bands (Hz)\n",
    "bands = {\n",
    "    'delta': (1, 4),\n",
    "    'theta': (4, 8),\n",
    "    'alpha': (8, 13),\n",
    "    'beta': (13, 30),\n",
    "    'gamma': (30, 45)\n",
    "}\n",
    "\n",
    "# Get frequency indices for each band\n",
    "band_indices = {\n",
    "    band: np.where((power.freqs >= low) & (power.freqs < high))[0]\n",
    "    for band, (low, high) in bands.items()\n",
    "}\n",
    "\n",
    "# Calculate normalized average power per band per channel\n",
    "band_power_norm = {}\n",
    "for band, idxs in band_indices.items():\n",
    "    band_power_norm[band] = []\n",
    "    for ch in range(power.data.shape[0]):\n",
    "        data = power.data[ch]\n",
    "        # Normalize the TFR for this channel\n",
    "        data_norm = (data - data.min()) / (data.max() - data.min() + 1e-12)\n",
    "        # Average over band freqs and all times\n",
    "        band_avg = data_norm[idxs, :].mean()\n",
    "        band_power_norm[band].append(band_avg)\n",
    "    band_power_norm[band] = np.array(band_power_norm[band])\n",
    "\n",
    "# Print normalized average power for each band and channel\n",
    "for band in bands:\n",
    "    print(f\"\\n{band.capitalize()} band normalized average power per channel:\")\n",
    "    for ch, avg in zip(power.ch_names, band_power_norm[band]):\n",
    "        print(f\"  {ch}: {avg:.4f}\")\n",
    "\n",
    "# Example: Compute alpha/beta ratio per channel\n",
    "alpha = band_power_norm['alpha']\n",
    "beta = band_power_norm['beta']\n",
    "alpha_beta_ratio = alpha / (beta + 1e-12)  # Avoid division by zero\n",
    "\n",
    "print(\"\\nAlpha/Beta ratio per channel:\")\n",
    "for ch, ratio in zip(power.ch_names, alpha_beta_ratio):\n",
    "    print(f\"  {ch}: {ratio:.4f}\")\n",
    "\n",
    "# You can compute other ratios similarly, e.g., theta/alpha, beta/gamma, etc."
   ]
  },
  {
   "cell_type": "code",
   "execution_count": null,
   "metadata": {},
   "outputs": [],
   "source": [
    "import matplotlib.pyplot as plt\n",
    "import numpy as np\n",
    "\n",
    "# Bar plot: Normalized average power per band per channel\n",
    "bands_list = list(band_power_norm.keys())\n",
    "channels = power.ch_names\n",
    "x = np.arange(len(channels))\n",
    "\n",
    "fig, ax = plt.subplots(figsize=(14, 6))\n",
    "width = 0.15\n",
    "\n",
    "for i, band in enumerate(bands_list):\n",
    "    if band == 'delta':\n",
    "        continue\n",
    "    ax.bar(x + i * width, band_power_norm[band], width, label=band.capitalize())\n",
    "\n",
    "ax.set_xticks(x + width * (len(bands_list) - 1) / 2)\n",
    "ax.set_xticklabels(channels, rotation=45)\n",
    "ax.set_ylabel('Normalized Average Power')\n",
    "ax.set_title('Normalized Average Power per Band per Channel')\n",
    "ax.legend()\n",
    "plt.tight_layout()\n",
    "plt.show()\n",
    "\n",
    "# Bar plot: Alpha/Beta ratio per channel\n",
    "fig, ax = plt.subplots(figsize=(14, 4))\n",
    "ax.bar(channels, alpha_beta_ratio, color='orange')\n",
    "ax.set_ylabel('Alpha/Beta Ratio')\n",
    "ax.set_title('Alpha/Beta Ratio per Channel')\n",
    "ax.set_xticklabels(channels, rotation=45)\n",
    "plt.tight_layout()\n",
    "plt.show()"
   ]
  },
  {
   "cell_type": "code",
   "execution_count": null,
   "metadata": {},
   "outputs": [],
   "source": [
    "control_ab = alpha_beta_ratio"
   ]
  },
  {
   "cell_type": "code",
   "execution_count": null,
   "metadata": {},
   "outputs": [],
   "source": [
    "channels = power.ch_names\n",
    "x = np.arange(len(channels))\n",
    "width = 0.35\n",
    "\n",
    "fig, ax = plt.subplots(figsize=(14, 4))\n",
    "ax.bar(x + width/2, control_ab, width, color='green', label='Control')\n",
    "ax.bar(x - width/2, alpha_beta_ratio, width, color='orange', label='Experimental')\n",
    "ax.set_ylabel('Alpha/Beta Ratio')\n",
    "ax.set_title('Alpha/Beta Ratio per Channel')\n",
    "ax.set_xticks(x)\n",
    "ax.set_xticklabels(channels, rotation=45)\n",
    "ax.legend()\n",
    "plt.tight_layout()\n",
    "plt.show()"
   ]
  },
  {
   "cell_type": "code",
   "execution_count": null,
   "metadata": {},
   "outputs": [],
   "source": [
    "power.plot(baseline=(-0.2, 0), mode='mean', colorbar=True)"
   ]
  },
  {
   "cell_type": "code",
   "execution_count": null,
   "metadata": {},
   "outputs": [],
   "source": [
    "import matplotlib.pyplot as plt\n",
    "\n",
    "channels = power.ch_names\n",
    "n_channels = len(channels)\n",
    "n_cols = 4  # You can adjust this for your preferred layout\n",
    "n_rows = int(np.ceil(n_channels / n_cols))\n",
    "\n",
    "fig, axes = plt.subplots(n_rows, n_cols, figsize=(16, 3 * n_rows))\n",
    "axes = axes.flatten()\n",
    "\n",
    "for idx, ch in enumerate(channels):\n",
    "    power.plot(picks=[ch], baseline=(-0.2, 0), mode='mean', axes=axes[idx], colorbar=False, show=False)\n",
    "    axes[idx].set_title(ch)\n",
    "\n",
    "# Hide any unused subplots\n",
    "for ax in axes[n_channels:]:\n",
    "    ax.axis('off')\n",
    "\n",
    "plt.tight_layout()\n",
    "fig.suptitle('Alpha Band TFR Power - Control (per channel)', y=1.02, fontsize=18)\n",
    "plt.show()"
   ]
  },
  {
   "cell_type": "code",
   "execution_count": null,
   "metadata": {},
   "outputs": [],
   "source": [
    "import numpy as np\n",
    "\n",
    "# power.data shape: (n_channels, n_frequencies, n_times)\n",
    "# Calculate mean across frequency and time for each channel (average alpha power per channel)\n",
    "avg_alpha_per_channel = power.data.mean(axis=(1, 2))  # shape: (n_channels,)\n",
    "# Calculate grand average alpha power across all channels\n",
    "grand_avg_alpha = avg_alpha_per_channel.mean()\n",
    "\n",
    "# Print results\n",
    "for ch, avg in zip(power.ch_names, avg_alpha_per_channel):\n",
    "    print(f\"Channel {ch}: Average alpha power = {avg:.4e}\")\n",
    "\n",
    "print(f\"\\nGrand average alpha power across all channels: {grand_avg_alpha:.4e}\")"
   ]
  }
 ],
 "metadata": {
  "kernelspec": {
   "display_name": "brain",
   "language": "python",
   "name": "python3"
  },
  "language_info": {
   "codemirror_mode": {
    "name": "ipython",
    "version": 3
   },
   "file_extension": ".py",
   "mimetype": "text/x-python",
   "name": "python",
   "nbconvert_exporter": "python",
   "pygments_lexer": "ipython3",
   "version": "3.12.2"
  }
 },
 "nbformat": 4,
 "nbformat_minor": 2
}
