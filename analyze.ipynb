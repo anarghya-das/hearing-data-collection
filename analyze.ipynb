{
 "cells": [
  {
   "cell_type": "code",
   "execution_count": null,
   "metadata": {},
   "outputs": [],
   "source": [
    "import os\n",
    "import mne\n",
    "import pyxdf\n",
    "import numpy as np\n",
    "%matplotlib qt\n",
    "import matplotlib.pyplot as plt\n",
    "matplotlib.style.use('default')"
   ]
  },
  {
   "cell_type": "code",
   "execution_count": null,
   "metadata": {},
   "outputs": [],
   "source": [
    "labels = ['L1', 'L2', 'L3', 'L4', 'L5', 'L6', 'L7', 'L8', 'L9', 'L10',\n",
    "          'R1', 'R2', 'R3', 'R4', 'R5', 'R6', 'R7', 'R8', 'R9', 'R10']\n",
    "x_coords = [-72, -81, -99, -108, -109, -109, -108, -99, -81, -72,\n",
    "            72, 81, 99, 108, 109, 109, 108, 99, 81, 72]\n",
    "y_coords = [0.67778, 0.73333, 0.73333, 0.67778, 0.63889, 0.60556, 0.56667, 0.51111, 0.51111, 0.56667,\n",
    "            0.67778, 0.73333, 0.73333, 0.67778, 0.63889, 0.60556, 0.56667, 0.51111, 0.51111, 0.56667]\n",
    "lpa_x = (x_coords[0] + x_coords[9])/2\n",
    "lpa_y = (y_coords[0] + y_coords[9])/2\n",
    "\n",
    "rpa_x = (x_coords[10] + x_coords[19])/2\n",
    "rpa_y = (y_coords[10] + y_coords[19])/2\n",
    "\n",
    "naison_x = (x_coords[2] + x_coords[11]+9)/2\n",
    "naison_y = (y_coords[2] + y_coords[11])/2\n",
    "print(\"Naison coordinates: \", naison_x, naison_y)\n",
    "plt.figure(figsize=(8, 6))\n",
    "scatter = plt.scatter(x_coords, y_coords, c='blue', marker='o')\n",
    "plt.scatter(lpa_x, lpa_y, c='red', marker='x', label='LPA')\n",
    "plt.scatter(rpa_x, rpa_y, c='green', marker='x', label='RPA')\n",
    "plt.scatter(naison_x, naison_y, c='purple', marker='^', label='Nasion')\n",
    "plt.annotate('LPA', xy=(lpa_x, lpa_y), xytext=(0, 5),\n",
    "             textcoords=\"offset points\",\n",
    "             fontsize=8, ha='center')\n",
    "plt.annotate('RPA', xy=(rpa_x, rpa_y), xytext=(0, 5),\n",
    "                textcoords=\"offset points\",\n",
    "                fontsize=8, ha='center')\n",
    "plt.annotate('Nasion', xy=(naison_x, naison_y), xytext=(0, 5),\n",
    "                textcoords=\"offset points\",\n",
    "                fontsize=8, ha='center')\n",
    "\n",
    "# Adding labels to each point\n",
    "for i, label in enumerate(labels):\n",
    "    plt.annotate(label,  # The text to display\n",
    "                 (x_coords[i], y_coords[i]),  # The position to place the text\n",
    "                 textcoords=\"offset points\",  # How to position the text\n",
    "                 xytext=(0, 5),  # Offset text by 5 points above\n",
    "                 ha='center',  # Horizontal alignment\n",
    "                 fontsize=8)  # Font size\n",
    "\n",
    "# Adding a legend, title and axes labels\n",
    "plt.legend()\n",
    "plt.title('Electrode Positions')\n",
    "plt.xlabel('X Coordinate')\n",
    "plt.ylabel('Y Coordinate')"
   ]
  },
  {
   "cell_type": "code",
   "execution_count": null,
   "metadata": {},
   "outputs": [],
   "source": [
    "import numpy as np\n",
    "import matplotlib.pyplot as plt\n",
    "from sklearn.linear_model import LinearRegression\n",
    "\n",
    "# Labels\n",
    "labels = ['L1', 'L2', 'L3', 'L4', 'L5', 'L6', 'L7', 'L8', 'L9', 'L10',\n",
    "          'R1', 'R2', 'R3', 'R4', 'R5', 'R6', 'R7', 'R8', 'R9', 'R10']\n",
    "\n",
    "# 2D electrode positions\n",
    "x_coords = np.array([-72, -81, -99, -108, -109, -109, -108, -99, -81, -72,\n",
    "                     72, 81, 99, 108, 109, 109, 108, 99, 81, 72])\n",
    "y_coords = np.array([0.67778, 0.73333, 0.73333, 0.67778, 0.63889, 0.60556, 0.56667, 0.51111, 0.51111, 0.56667,\n",
    "                     0.67778, 0.73333, 0.73333, 0.67778, 0.63889, 0.60556, 0.56667, 0.51111, 0.51111, 0.56667])\n",
    "elec_2d = np.column_stack([x_coords, y_coords])\n",
    "\n",
    "# Real 3D fiducials (in meters)\n",
    "lpa_3d = np.array([-0.08061612, -0.02908875, -0.04131077])\n",
    "rpa_3d = np.array([0.08436285, -0.02850276, -0.04127743])\n",
    "nasion_3d = np.array([0.00146763,  0.08506715, -0.03483611])\n",
    "tgt_fids = np.vstack([lpa_3d, rpa_3d, nasion_3d])\n",
    "\n",
    "# Known physical distance between L1 and L10 is 4 cm\n",
    "l1_2d = elec_2d[0]\n",
    "l10_2d = elec_2d[9]\n",
    "euclidean_dist = np.linalg.norm(l1_2d - l10_2d)\n",
    "real_world_dist = 0.04  # meters\n",
    "scale = real_world_dist / euclidean_dist\n",
    "elec_2d_scaled = elec_2d * scale  # Now in meters\n",
    "\n",
    "# Compute fiducials in scaled space\n",
    "lpa_2d = np.mean([elec_2d_scaled[0], elec_2d_scaled[9]], axis=0)\n",
    "rpa_2d = np.mean([elec_2d_scaled[10], elec_2d_scaled[19]], axis=0)\n",
    "nasion_2d = np.mean([elec_2d_scaled[2], elec_2d_scaled[12]], axis=0)\n",
    "src_fids = np.vstack([lpa_2d, rpa_2d, nasion_2d])\n",
    "\n",
    "# Fit 2D → 3D affine transform\n",
    "reg = LinearRegression()\n",
    "reg.fit(src_fids, tgt_fids)\n",
    "A = reg.coef_\n",
    "b = reg.intercept_\n",
    "elec_3d = elec_2d_scaled @ A.T + b\n",
    "\n",
    "# Plot the 3D electrode positions\n",
    "fig = plt.figure(figsize=(6, 6))\n",
    "ax = fig.add_subplot(111, projection='3d')\n",
    "ax.scatter(elec_3d[:, 0], elec_3d[:, 1], elec_3d[:, 2], c='b')\n",
    "\n",
    "for i, label in enumerate(labels):\n",
    "    ax.text(elec_3d[i, 0], elec_3d[i, 1], elec_3d[i, 2], label)\n",
    "\n",
    "ax.set_title(\"Transformed Electrode Positions (3D)\")\n",
    "ax.set_xlabel(\"X (m)\")\n",
    "ax.set_ylabel(\"Y (m)\")\n",
    "ax.set_zlabel(\"Z (m)\")\n",
    "plt.tight_layout()\n",
    "plt.show()\n"
   ]
  },
  {
   "cell_type": "code",
   "execution_count": null,
   "metadata": {},
   "outputs": [],
   "source": [
    "import mne\n",
    "\n",
    "# Create montage from transformed 3D electrode positions\n",
    "ch_pos = dict(zip(labels, elec_3d))\n",
    "montage = mne.channels.make_dig_montage(ch_pos=ch_pos, coord_frame='head')\n",
    "\n",
    "# Create a fake info object\n",
    "info = mne.create_info(ch_names=labels, sfreq=1000., ch_types='eeg')\n",
    "info.set_montage(montage)\n",
    "\n",
    "# Plot in 2D\n",
    "fig_2d = info.plot_sensors(kind='topomap', show_names=True)\n",
    "\n",
    "# Plot in 3D\n",
    "# fig_3d = mne.viz.plot_alignment(info, dig=True, show_axes=True)\n",
    "\n",
    "# (fig_2d, fig_3d)\n"
   ]
  },
  {
   "cell_type": "code",
   "execution_count": null,
   "metadata": {},
   "outputs": [],
   "source": [
    "montages = mne.channels.get_builtin_montages(descriptions=True)\n",
    "easycap_montage = mne.channels.make_standard_montage(montages[1][0])\n",
    "print(easycap_montage)\n",
    "easycap_montage.get_positions()\n",
    "\n",
    "# easycap_montage.plot(kind=\"topomap\")"
   ]
  },
  {
   "cell_type": "code",
   "execution_count": null,
   "metadata": {},
   "outputs": [],
   "source": [
    "def closest_points_vector(eeg_timestamps, marker_timestamps):\n",
    "    # Get the insertion indices for each marker timestamp\n",
    "    indices = np.searchsorted(eeg_timestamps, marker_timestamps)\n",
    "\n",
    "    # Preallocate the output array as a copy of indices.\n",
    "    closest_eeg_indices = indices.copy()\n",
    "\n",
    "    # Create a mask for markers where the insertion index equals 0 (marker before first EEG timestamp)\n",
    "    mask_begin = (indices == 0)\n",
    "    # For these, the closest EEG index is 0 (they cannot use a previous value)\n",
    "    closest_eeg_indices[mask_begin] = 0\n",
    "\n",
    "    # Create a mask for markers where the insertion index equals the length of the EEG timestamps\n",
    "    mask_end = (indices == len(eeg_timestamps))\n",
    "    # For these markers, set the closest EEG index to the last index\n",
    "    closest_eeg_indices[mask_end] = len(eeg_timestamps) - 1\n",
    "\n",
    "    # Create a mask for the \"middle\" markers, i.e., not at the very beginning or end\n",
    "    mask_middle = (indices > 0) & (indices < len(eeg_timestamps))\n",
    "\n",
    "    # For markers in the middle, compute the distance to the previous and next EEG timestamps:\n",
    "    prev_times = eeg_timestamps[indices[mask_middle] - 1]\n",
    "    next_times = eeg_timestamps[indices[mask_middle]]\n",
    "    marker_times_middle = marker_timestamps[mask_middle]\n",
    "\n",
    "    # Calculate the differences\n",
    "    diff_prev = marker_times_middle - prev_times\n",
    "    diff_next = next_times - marker_times_middle\n",
    "\n",
    "    # For each marker in the middle, choose the index of the EEG timestamp that is closer:\n",
    "    # If the distance to the previous timestamp is less or equal than the distance to the next,\n",
    "    # then we pick indices[mask_middle]-1; otherwise, we pick indices[mask_middle].\n",
    "    closest_eeg_indices[mask_middle] = np.where(diff_prev <= diff_next,\n",
    "                                                indices[mask_middle] - 1,\n",
    "                                                indices[mask_middle])\n",
    "\n",
    "    return closest_eeg_indices\n",
    "\n",
    "def create_mappings(event_names, prefix):\n",
    "    marker_dict = {p: i for i, p in enumerate(\n",
    "        np.unique(event_names))}\n",
    "    id_binding = {v: k for k, v in marker_dict.items()}\n",
    "    category_mapping = {\n",
    "        p: {k: v for k, v in marker_dict.items() if k.startswith(p)} for p in prefix\n",
    "    }\n",
    "    return marker_dict, id_binding, category_mapping\n",
    "\n",
    "def create_events(time_points, event_mapping, event_names):\n",
    "    label_id_func = np.vectorize(event_mapping.get)\n",
    "    events = np.zeros((len(time_points), 3), dtype=int)\n",
    "    events[:, 0] = time_points\n",
    "    events[:, 2] = label_id_func(event_names)\n",
    "    return events"
   ]
  },
  {
   "cell_type": "markdown",
   "metadata": {},
   "source": [
    "## EEG Observations\n",
    "Missing EEG: 129059\n",
    "\n"
   ]
  },
  {
   "cell_type": "code",
   "execution_count": null,
   "metadata": {},
   "outputs": [],
   "source": [
    "subs = [797337,129059, 617834, 822866, 991031]\n",
    "EXP_ROOT = \"exp_data\"\n",
    "INPUT_ROOT = \"input\"\n",
    "OUTPUT_ROOT = \"output\"\n",
    "sub_id = \"099810\"\n",
    "DATA_FILE = os.path.join(\n",
    "    EXP_ROOT, f\"sub-{sub_id}\", f\"sub-{sub_id}_task-hearing_run-001.xdf\")\n",
    "RAW_VIDEO = os.path.join(INPUT_ROOT, f\"{sub_id}.avi\")\n",
    "# DATA_FILE = os.path.join(EXP_ROOT,\"elizabeth.xdf\")\n",
    "data, header = pyxdf.load_xdf(DATA_FILE)\n",
    "print([stream['info']['type'][0] for stream in data])"
   ]
  },
  {
   "cell_type": "code",
   "execution_count": null,
   "metadata": {},
   "outputs": [],
   "source": [
    "marker_stream = next(\n",
    "    stream for stream in data if stream['info']['type'][0] == 'Markers')\n",
    "# video_stream = next(\n",
    "#     stream for stream in data if stream['info']['type'][0] == 'Video')\n",
    "# ppg_stream = next(\n",
    "#     stream for stream in data if stream['info']['type'][0] == 'PPG')\n",
    "eeg_stream = next(\n",
    "    stream for stream in data if stream['info']['type'][0] == 'EEG')\n",
    "# eeg_stream = data[2]"
   ]
  },
  {
   "cell_type": "code",
   "execution_count": null,
   "metadata": {},
   "outputs": [],
   "source": [
    "marker_timestamps = marker_stream['time_stamps']\n",
    "marker_data = np.array(marker_stream['time_series']).squeeze()\n",
    "eeg_timestamps = eeg_stream['time_stamps']\n",
    "eeg_insert_points = closest_points_vector(eeg_timestamps, marker_timestamps)"
   ]
  },
  {
   "cell_type": "code",
   "execution_count": null,
   "metadata": {},
   "outputs": [],
   "source": [
    "bindings = ['pmt','hlt','let','ast']\n",
    "marker_dict, id_binding, category_mapping = create_mappings(marker_data, bindings)\n",
    "events = create_events(eeg_insert_points, marker_dict, marker_data)"
   ]
  },
  {
   "cell_type": "code",
   "execution_count": null,
   "metadata": {},
   "outputs": [],
   "source": [
    "eeg_stream['time_series'].T * 1e-6"
   ]
  },
  {
   "cell_type": "code",
   "execution_count": null,
   "metadata": {},
   "outputs": [],
   "source": [
    "ch_labels = ['L1', 'L2', 'L4', 'L5', 'L7', 'L8', 'L9', 'L10',\n",
    "             'R1', 'R2', 'R4', 'R5', 'R7', 'R8', 'R9', 'R10']\n",
    "# ch_labels = ['Fp1', 'Fp2', 'C3', 'C4', 'P7', 'P8', 'O1',\n",
    "#              'O2', 'F7', 'F8', 'F3', 'F4', 'T7', 'T8', 'P3', 'P4']\n",
    "sampling_rate = 125\n",
    "\n",
    "eeg_data = eeg_stream['time_series'].T * 1e-6\n",
    "info = mne.create_info(\n",
    "    ch_names=ch_labels, sfreq=sampling_rate, ch_types='eeg')\n",
    "raw = mne.io.RawArray(eeg_data, info)\n",
    "\n",
    "flalt_voltage = 0.1\n",
    "_, bads = mne.preprocessing.annotate_amplitude(\n",
    "    raw, flat=dict(eeg=flalt_voltage*1e-6))\n",
    "raw.info['bads'] = bads\n",
    "print(f\"Bad channels: {bads}\")\n",
    "# raw.interpolate_bads()\n",
    "annot = mne.annotations_from_events(\n",
    "    events, raw.info['sfreq'], id_binding)\n",
    "raw.set_annotations(annot)\n",
    "\n",
    "# raw.set_montage(montage)  # Set the montage to the raw object   \n",
    "# raw.plot_psd(fmax=62)\n",
    "\n",
    "# raw = raw.notch_filter(60)\n",
    "# bandpass = {'low': 1, 'high': 50}\n",
    "# raw = raw.filter(l_freq=bandpass['low'], h_freq=bandpass['high'])\n",
    "\n",
    "raw.plot(scalings='auto')\n",
    "# raw.plot_psd()\n",
    "# raw.plot_psd(fmax=62,dB=True)"
   ]
  },
  {
   "cell_type": "code",
   "execution_count": null,
   "metadata": {},
   "outputs": [],
   "source": [
    "def create_epochs(raw, events, event_id, tmin, duration, sampling_rate,\n",
    "                  baseline=(None, 0), preload=True):\n",
    "    samples = int(duration * sampling_rate)\n",
    "    tmax = tmin + ((samples - 1) / sampling_rate)\n",
    "    return mne.Epochs(raw, events, event_id, tmin, tmax,\n",
    "                      baseline=baseline, preload=preload)\n"
   ]
  },
  {
   "cell_type": "code",
   "execution_count": null,
   "metadata": {},
   "outputs": [],
   "source": [
    "epochs =create_epochs(raw, events, event_id=category_mapping['ast'], tmin=0, baseline=None,\n",
    "             duration=5, sampling_rate=sampling_rate)\n",
    "epochs"
   ]
  },
  {
   "cell_type": "code",
   "execution_count": null,
   "metadata": {},
   "outputs": [],
   "source": [
    "epochs.plot()"
   ]
  },
  {
   "cell_type": "code",
   "execution_count": null,
   "metadata": {},
   "outputs": [],
   "source": [
    "paper = epochs['ast_stim-paper_crunching'].average()\n",
    "waves = epochs['ast_stim-control-waves_crashing_on_rock_beach'].average()"
   ]
  },
  {
   "cell_type": "code",
   "execution_count": null,
   "metadata": {},
   "outputs": [],
   "source": [
    "paper.plot()"
   ]
  },
  {
   "cell_type": "code",
   "execution_count": null,
   "metadata": {},
   "outputs": [],
   "source": []
  }
 ],
 "metadata": {
  "kernelspec": {
   "display_name": "mne",
   "language": "python",
   "name": "python3"
  },
  "language_info": {
   "codemirror_mode": {
    "name": "ipython",
    "version": 3
   },
   "file_extension": ".py",
   "mimetype": "text/x-python",
   "name": "python",
   "nbconvert_exporter": "python",
   "pygments_lexer": "ipython3",
   "version": "3.11.8"
  }
 },
 "nbformat": 4,
 "nbformat_minor": 2
}
