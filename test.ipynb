{
 "cells": [
  {
   "cell_type": "code",
   "execution_count": null,
   "id": "4d22688b",
   "metadata": {},
   "outputs": [],
   "source": [
    "import os\n",
    "from mne_bids import BIDSPath, read_raw_bids\n",
    "import matplotlib.pyplot as plt\n",
    "plt.style.use('default')\n",
    "%matplotlib qt\n",
    "import mne"
   ]
  },
  {
   "cell_type": "code",
   "execution_count": null,
   "id": "453f8bd2",
   "metadata": {},
   "outputs": [],
   "source": [
    "\n",
    "bids_root = \"/Users/anarghya/Developer/brain_data/ceegrid_data\"\n",
    "subject = '001'\n",
    "task = 'AttendedSpeakerParadigmcEEGridAttention'\n",
    "# The data is in the EEG modality\n",
    "bids_path = BIDSPath(subject=subject, task=task, root=bids_root,\n",
    "                     datatype='eeg')\n",
    "raw = read_raw_bids(bids_path=bids_path, verbose=False)"
   ]
  },
  {
   "cell_type": "code",
   "execution_count": null,
   "id": "b0c0bf46",
   "metadata": {},
   "outputs": [],
   "source": [
    "from utils import calculate_power_spectrum, plot_power_spectrum\n",
    "\n",
    "power, freqs = calculate_power_spectrum(raw, fmin=2, fmax=50, method='welch')\n",
    "plot_power_spectrum(power, freqs, average_axis=(0))"
   ]
  },
  {
   "cell_type": "code",
   "execution_count": null,
   "id": "272d0fc7",
   "metadata": {},
   "outputs": [],
   "source": [
    "from mne.io import read_raw_eeglab\n",
    "\n",
    "# Read an EEGLAB .set file using MNE\n",
    "# Assuming you have the path to the .set file\n",
    "\n",
    "set_file = \"Exp7-eeglab.set\"\n",
    "raw_eeglab = read_raw_eeglab(set_file, preload=True)"
   ]
  },
  {
   "cell_type": "code",
   "execution_count": null,
   "id": "aa61b23a",
   "metadata": {},
   "outputs": [],
   "source": [
    "raw_eeglab.plot(scalings='auto')"
   ]
  },
  {
   "cell_type": "code",
   "execution_count": null,
   "id": "5d9a3f9c",
   "metadata": {},
   "outputs": [],
   "source": [
    "# Define the new channel names in the desired order\n",
    "desired_ch_names = [\n",
    "    'L1', 'L2', 'L3', 'L4', 'L5', 'L7', 'L8', 'L9', 'L10',\n",
    "    'R1', 'R2', 'R3', 'R4', 'R5', 'R7', 'R8', 'R9', 'R10']\n",
    "montage = raw.get_montage()\n",
    "# Create a mapping from the current montage channel names to the desired names\n",
    "if len(montage.ch_names) == len(desired_ch_names):\n",
    "    ch_rename_dict = {old: new for old, new in zip(\n",
    "        montage.ch_names, desired_ch_names)}\n",
    "    montage = montage.rename_channels(ch_rename_dict)\n",
    "else:\n",
    "    print(\"Number of montage channels does not match the number of desired names.\")"
   ]
  },
  {
   "cell_type": "code",
   "execution_count": null,
   "id": "871a16c9",
   "metadata": {},
   "outputs": [],
   "source": [
    "montage = raw.get_montage()\n",
    "montage.plot(kind='topomap', show_names=True)"
   ]
  },
  {
   "cell_type": "code",
   "execution_count": null,
   "id": "3a3a1c14",
   "metadata": {},
   "outputs": [],
   "source": [
    "raw_eeglab.set_montage(montage)"
   ]
  },
  {
   "cell_type": "code",
   "execution_count": null,
   "id": "ff67c928",
   "metadata": {},
   "outputs": [],
   "source": [
    "raw_eeglab.get_montage()"
   ]
  },
  {
   "cell_type": "code",
   "execution_count": null,
   "id": "991d3c42",
   "metadata": {},
   "outputs": [],
   "source": []
  }
 ],
 "metadata": {
  "kernelspec": {
   "display_name": "brain",
   "language": "python",
   "name": "python3"
  },
  "language_info": {
   "codemirror_mode": {
    "name": "ipython",
    "version": 3
   },
   "file_extension": ".py",
   "mimetype": "text/x-python",
   "name": "python",
   "nbconvert_exporter": "python",
   "pygments_lexer": "ipython3",
   "version": "3.12.2"
  }
 },
 "nbformat": 4,
 "nbformat_minor": 5
}
