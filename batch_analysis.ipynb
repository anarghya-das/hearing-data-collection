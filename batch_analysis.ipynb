{
 "cells": [
  {
   "cell_type": "code",
   "execution_count": null,
   "id": "4ebce3f7",
   "metadata": {},
   "outputs": [],
   "source": [
    "import os\n",
    "import glob\n",
    "import numpy as np\n",
    "from utils import read_data, get_event_names, compute_band_ratios, calculate_power_spectrum, plot_power_spectrum\n",
    "import mne\n",
    "import matplotlib.pyplot as plt\n",
    "plt.style.use('default')"
   ]
  },
  {
   "cell_type": "code",
   "execution_count": null,
   "id": "6ae85bda",
   "metadata": {},
   "outputs": [],
   "source": [
    "exp_path = os.path.join(\"exp_data\",\"02_Experimental\")\n",
    "control_path = os.path.join(\"exp_data\",\"01_Control\")\n",
    "glob_pattern = os.path.join(\"**\",\"*.xdf\")\n",
    "\n",
    "exp_files = glob.glob(os.path.join(exp_path,glob_pattern),recursive=True)\n",
    "control_files = glob.glob(os.path.join(control_path,glob_pattern),recursive=True)[:6]\n",
    "# exp_mapping, exp_common = get_event_names(control_files)\n",
    "# CTRL03-sub-129059-old error"
   ]
  },
  {
   "cell_type": "code",
   "execution_count": null,
   "id": "52f106c2",
   "metadata": {},
   "outputs": [],
   "source": [
    "exp_files"
   ]
  },
  {
   "cell_type": "code",
   "execution_count": null,
   "id": "b8ac2477",
   "metadata": {},
   "outputs": [],
   "source": [
    "# participant_files = control_files[:6]\n",
    "participant_files = exp_files[4:6]\n",
    "event_type = 'ast_stim'\n",
    "ast_event_groups = ['neutral', 'trigger']\n",
    "participant_ratios = []\n",
    "\n",
    "for participant_file in participant_files:\n",
    "    participant_number = participant_file.split(os.sep)[2]\n",
    "    participant_id = participant_file.split(os.sep)[-1].split('_')[0]\n",
    "    print(f\"Processing {participant_number} ({participant_id})\")\n",
    "    raw, events, mapping = read_data(\n",
    "        participant_file, bandpass={'low': 2, 'high': 50})\n",
    "\n",
    "    # Build a new event_id mapping for combining\n",
    "    combined_event_id = {}\n",
    "\n",
    "    # Assign all neutral events to 1, all trigger events to 2\n",
    "    for k in mapping[event_type]['neutral'].keys():\n",
    "        combined_event_id[str(k)] = 1\n",
    "    for k in mapping[event_type]['trigger'].keys():\n",
    "        combined_event_id[str(k)] = 2\n",
    "\n",
    "    montage = mne.channels.read_custom_montage(\n",
    "        'ceegrid_coords.csv', coord_frame='head')\n",
    "    raw.set_montage(montage)\n",
    "    raw.interpolate_bads(reset_bads=True)\n",
    "    participant_data = {\n",
    "        'participant_number': participant_number,\n",
    "        'neutral_epoch': None,\n",
    "        'trigger_epoch': None,\n",
    "    }\n",
    "    for group in ast_event_groups:\n",
    "        if len(mapping[event_type][group]) == 0:\n",
    "            print(\n",
    "                f\"No events found for {event_type} in group {group} for participant {participant_number}\")\n",
    "            continue\n",
    "        epoch = mne.Epochs(\n",
    "            raw, events, event_id=combined_event_id, tmin=-0.5, tmax=4)\n",
    "        participant_data[f'{group}_epoch'] = epoch\n",
    "\n",
    "    participant_ratios.append({\n",
    "        'participant_id': f\"{participant_number}\",\n",
    "        'neutral_epoch': participant_data['neutral_epoch'],\n",
    "        'trigger_epoch': participant_data['trigger_epoch'],\n",
    "    })\n",
    "    break"
   ]
  },
  {
   "cell_type": "markdown",
   "id": "9fb22e46",
   "metadata": {},
   "source": [
    "AST->[pre_stim,stim,post_stim]\n",
    "\n",
    "{\n",
    "    \"ast\": {\n",
    "    \"pre_stim\": [\n",
    "      \"trigger\": [ if audio_label doesn't contain \"control\"\n",
    "            \"audio_label\": 2\n",
    "        ]\n",
    "        \"neutral\":[ if audio_label contains \"control\"\n",
    "            \"audio_label\": 2\n",
    "        ]\n",
    "    ]\n",
    "     \"stim\": {\n",
    "        \"trigger\": [ if audio_label doesn't contain \"control\"\n",
    "            \"audio_label\": 2\n",
    "        ]\n",
    "        \"neutral\":[ if audio_label contains \"control\"\n",
    "            \"audio_label\": 2\n",
    "        ]\n",
    "    }\n",
    "\n",
    "    }\n",
    "\n",
    "   \n",
    "}"
   ]
  },
  {
   "cell_type": "code",
   "execution_count": null,
   "id": "a8731b39",
   "metadata": {},
   "outputs": [],
   "source": [
    "mapping['ast']"
   ]
  },
  {
   "cell_type": "code",
   "execution_count": null,
   "id": "566cff60",
   "metadata": {},
   "outputs": [],
   "source": [
    "combined_event_id"
   ]
  },
  {
   "cell_type": "code",
   "execution_count": null,
   "id": "2c599422",
   "metadata": {},
   "outputs": [],
   "source": [
    "epoch"
   ]
  },
  {
   "cell_type": "code",
   "execution_count": null,
   "id": "7690cfed",
   "metadata": {},
   "outputs": [],
   "source": [
    "# Combine all neutral and trigger epochs from participant_ratios\n",
    "neutral_epochs = [r['neutral_epoch'] for r in participant_ratios if r['neutral_epoch'] is not None]\n",
    "trigger_epochs = [r['trigger_epoch'] for r in participant_ratios if r['trigger_epoch'] is not None]\n",
    "\n",
    "combined_neutral = mne.concatenate_epochs(neutral_epochs)\n",
    "combined_trigger = mne.concatenate_epochs(trigger_epochs)"
   ]
  },
  {
   "cell_type": "code",
   "execution_count": null,
   "id": "27c099a3",
   "metadata": {},
   "outputs": [],
   "source": [
    "left_ear = ['L1', 'L2', 'L4', 'L5', 'L7', 'L8', 'L9', 'L10']\n",
    "right_ear = ['R1', 'R2', 'R4', 'R5', 'R7', 'R8', 'R9', 'R10']\n",
    "\n",
    "evokeds = dict(control=control_trigger.average(), experimental=combined_trigger.average())\n",
    "picks = left_ear\n",
    "mne.viz.plot_compare_evokeds(evokeds, picks=picks, combine=\"mean\")"
   ]
  },
  {
   "cell_type": "code",
   "execution_count": null,
   "id": "de6feb4f",
   "metadata": {},
   "outputs": [],
   "source": [
    "# participant_files = control_files[:6]\n",
    "participant_files = exp_files\n",
    "event_type = 'ast_stim'\n",
    "ast_event_groups = ['neutral', 'trigger']\n",
    "participant_ratios = []\n",
    "\n",
    "for participant_file in participant_files:\n",
    "    participant_number = participant_file.split(os.sep)[2]\n",
    "    participant_id = participant_file.split(os.sep)[-1].split('_')[0]\n",
    "    print(f\"Processing {participant_number} ({participant_id})\")\n",
    "    raw, events, mapping = read_data(\n",
    "        participant_file, bandpass={'low': 2, 'high': 50})\n",
    "    # print(events)\n",
    "    participant_data = {\n",
    "        'participant_number': participant_number,\n",
    "        'neutral_ratio': 0,\n",
    "        'trigger_ratio': 0,\n",
    "    }\n",
    "    for group in ast_event_groups:\n",
    "        if len(mapping[event_type][group]) == 0:\n",
    "            print(\n",
    "                f\"No events found for {event_type} in group {group} for participant {participant_number}\")\n",
    "            continue\n",
    "        epoch = mne.Epochs(\n",
    "            raw, events, event_id=mapping[event_type][group], tmin=-0.2, tmax=4)\n",
    "        power, freqs = calculate_power_spectrum(epoch, fmin=2, fmax=50)\n",
    "        band_powers = compute_band_ratios(power, freqs)\n",
    "        alpha = band_powers['alpha']\n",
    "        beta = band_powers['beta']\n",
    "        alpha_beta_ratio = alpha / (beta + 1e-12)  # Avoid division by zero\n",
    "        participant_data[f'{group}_ratio'] = alpha_beta_ratio.mean()\n",
    "\n",
    "    participant_ratios.append({\n",
    "        'participant_id': f\"{participant_number}\",\n",
    "        'neutral_ratio': participant_data['neutral_ratio'],\n",
    "        'trigger_ratio': participant_data['trigger_ratio'],\n",
    "    })"
   ]
  },
  {
   "cell_type": "code",
   "execution_count": null,
   "id": "6ab2d961",
   "metadata": {},
   "outputs": [],
   "source": [
    "participant_ids = [r['participant_id'] for r in participant_ratios]\n",
    "neutral_ratios = [r['neutral_ratio'] for r in participant_ratios]\n",
    "trigger_ratios = [r['trigger_ratio'] for r in participant_ratios]\n",
    "x = np.arange(len(participant_ids))\n",
    "width = 0.35\n",
    "\n",
    "# Calculate averages\n",
    "neutral_avg = np.mean(neutral_ratios)\n",
    "trigger_avg = np.mean(trigger_ratios)\n",
    "\n",
    "plt.figure(figsize=(10, 6))\n",
    "plt.bar(x - width/2, neutral_ratios, width, color='green', label='Neutral')\n",
    "plt.bar(x + width/2, trigger_ratios, width, color='orange', label='Trigger')\n",
    "\n",
    "# Draw average lines\n",
    "plt.axhline(neutral_avg, color='green', linestyle=':', linewidth=2, label='Neutral Avg')\n",
    "plt.axhline(trigger_avg, color='orange', linestyle=':', linewidth=2, label='Trigger Avg')\n",
    "\n",
    "# Add average values as text on the plot\n",
    "plt.text(len(x)-0.5, neutral_avg + 0.01, f\"{neutral_avg:.2f}\", color='green', fontsize=11, va='bottom', ha='right', fontweight='bold')\n",
    "plt.text(len(x)-1.5, trigger_avg + 0.01, f\"{trigger_avg:.2f}\", color='orange', fontsize=11, va='bottom', ha='right', fontweight='bold')\n",
    "\n",
    "plt.xlabel('Participant ID')\n",
    "plt.ylabel('Alpha/Beta Ratio')\n",
    "plt.title('Alpha/Beta Ratio for Experimental Participants (Neutral vs Trigger)')\n",
    "plt.xticks(x, participant_ids, rotation=45)\n",
    "plt.legend()\n",
    "plt.tight_layout()\n",
    "plt.show()"
   ]
  },
  {
   "cell_type": "code",
   "execution_count": null,
   "id": "d0b7aed5",
   "metadata": {},
   "outputs": [],
   "source": []
  }
 ],
 "metadata": {
  "kernelspec": {
   "display_name": "brain",
   "language": "python",
   "name": "python3"
  },
  "language_info": {
   "codemirror_mode": {
    "name": "ipython",
    "version": 3
   },
   "file_extension": ".py",
   "mimetype": "text/x-python",
   "name": "python",
   "nbconvert_exporter": "python",
   "pygments_lexer": "ipython3",
   "version": "3.12.2"
  }
 },
 "nbformat": 4,
 "nbformat_minor": 5
}
