{
 "cells": [
  {
   "cell_type": "code",
   "execution_count": 2,
   "id": "6283ec95",
   "metadata": {},
   "outputs": [],
   "source": [
    "import matplotlib.pyplot as plt\n",
    "matplotlib.style.use('default')\n",
    "%matplotlib qt\n",
    "import mne"
   ]
  },
  {
   "cell_type": "code",
   "execution_count": 3,
   "id": "2fc69e3e",
   "metadata": {},
   "outputs": [
    {
     "name": "stdout",
     "output_type": "stream",
     "text": [
      "Naison coordinates:  -4.5 0.73333\n"
     ]
    },
    {
     "data": {
      "text/plain": [
       "Text(0, 0.5, 'Y Coordinate')"
      ]
     },
     "execution_count": 3,
     "metadata": {},
     "output_type": "execute_result"
    }
   ],
   "source": [
    "labels = ['L1', 'L2', 'L3', 'L4', 'L5', 'L6', 'L7', 'L8', 'L9', 'L10',\n",
    "          'R1', 'R2', 'R3', 'R4', 'R5', 'R6', 'R7', 'R8', 'R9', 'R10']\n",
    "x_coords = [-72, -81, -99, -108, -109, -109, -108, -99, -81, -72,\n",
    "            72, 81, 99, 108, 109, 109, 108, 99, 81, 72]\n",
    "y_coords = [0.67778, 0.73333, 0.73333, 0.67778, 0.63889, 0.60556, 0.56667, 0.51111, 0.51111, 0.56667,\n",
    "            0.67778, 0.73333, 0.73333, 0.67778, 0.63889, 0.60556, 0.56667, 0.51111, 0.51111, 0.56667]\n",
    "lpa_x = (x_coords[0] + x_coords[9])/2\n",
    "lpa_y = (y_coords[0] + y_coords[9])/2\n",
    "\n",
    "rpa_x = (x_coords[10] + x_coords[19])/2\n",
    "rpa_y = (y_coords[10] + y_coords[19])/2\n",
    "\n",
    "naison_x = (x_coords[2] + x_coords[11]+9)/2\n",
    "naison_y = (y_coords[2] + y_coords[11])/2\n",
    "print(\"Naison coordinates: \", naison_x, naison_y)\n",
    "plt.figure(figsize=(8, 6))\n",
    "scatter = plt.scatter(x_coords, y_coords, c='blue', marker='o')\n",
    "plt.scatter(lpa_x, lpa_y, c='red', marker='x', label='LPA')\n",
    "plt.scatter(rpa_x, rpa_y, c='green', marker='x', label='RPA')\n",
    "plt.scatter(naison_x, naison_y, c='purple', marker='^', label='Nasion')\n",
    "plt.annotate('LPA', xy=(lpa_x, lpa_y), xytext=(0, 5),\n",
    "             textcoords=\"offset points\",\n",
    "             fontsize=8, ha='center')\n",
    "plt.annotate('RPA', xy=(rpa_x, rpa_y), xytext=(0, 5),\n",
    "                textcoords=\"offset points\",\n",
    "                fontsize=8, ha='center')\n",
    "plt.annotate('Nasion', xy=(naison_x, naison_y), xytext=(0, 5),\n",
    "                textcoords=\"offset points\",\n",
    "                fontsize=8, ha='center')\n",
    "\n",
    "# Adding labels to each point\n",
    "for i, label in enumerate(labels):\n",
    "    plt.annotate(label,  # The text to display\n",
    "                 (x_coords[i], y_coords[i]),  # The position to place the text\n",
    "                 textcoords=\"offset points\",  # How to position the text\n",
    "                 xytext=(0, 5),  # Offset text by 5 points above\n",
    "                 ha='center',  # Horizontal alignment\n",
    "                 fontsize=8)  # Font size\n",
    "\n",
    "# Adding a legend, title and axes labels\n",
    "plt.legend()\n",
    "plt.title('Electrode Positions')\n",
    "plt.xlabel('X Coordinate')\n",
    "plt.ylabel('Y Coordinate')"
   ]
  },
  {
   "cell_type": "code",
   "execution_count": null,
   "id": "b041da51",
   "metadata": {},
   "outputs": [],
   "source": [
    "import numpy as np\n",
    "import matplotlib.pyplot as plt\n",
    "from sklearn.linear_model import LinearRegression\n",
    "\n",
    "# Labels\n",
    "labels = ['L1', 'L2', 'L3', 'L4', 'L5', 'L6', 'L7', 'L8', 'L9', 'L10',\n",
    "          'R1', 'R2', 'R3', 'R4', 'R5', 'R6', 'R7', 'R8', 'R9', 'R10']\n",
    "\n",
    "# 2D electrode positions\n",
    "x_coords = np.array([-72, -81, -99, -108, -109, -109, -108, -99, -81, -72,\n",
    "                     72, 81, 99, 108, 109, 109, 108, 99, 81, 72])\n",
    "y_coords = np.array([0.67778, 0.73333, 0.73333, 0.67778, 0.63889, 0.60556, 0.56667, 0.51111, 0.51111, 0.56667,\n",
    "                     0.67778, 0.73333, 0.73333, 0.67778, 0.63889, 0.60556, 0.56667, 0.51111, 0.51111, 0.56667])\n",
    "elec_2d = np.column_stack([x_coords, y_coords])\n",
    "\n",
    "# Real 3D fiducials (in meters)\n",
    "lpa_3d = np.array([-0.08061612, -0.02908875, -0.04131077])\n",
    "rpa_3d = np.array([0.08436285, -0.02850276, -0.04127743])\n",
    "nasion_3d = np.array([0.00146763,  0.08506715, -0.03483611])\n",
    "tgt_fids = np.vstack([lpa_3d, rpa_3d, nasion_3d])\n",
    "\n",
    "# Known physical distance between L1 and L10 is 4 cm\n",
    "l1_2d = elec_2d[0]\n",
    "l10_2d = elec_2d[9]\n",
    "euclidean_dist = np.linalg.norm(l1_2d - l10_2d)\n",
    "real_world_dist = 0.04  # meters\n",
    "scale = real_world_dist / euclidean_dist\n",
    "elec_2d_scaled = elec_2d * scale  # Now in meters\n",
    "\n",
    "# Compute fiducials in scaled space\n",
    "lpa_2d = np.mean([elec_2d_scaled[0], elec_2d_scaled[9]], axis=0)\n",
    "rpa_2d = np.mean([elec_2d_scaled[10], elec_2d_scaled[19]], axis=0)\n",
    "nasion_2d = np.mean([elec_2d_scaled[2], elec_2d_scaled[12]], axis=0)\n",
    "src_fids = np.vstack([lpa_2d, rpa_2d, nasion_2d])\n",
    "\n",
    "# Fit 2D → 3D affine transform\n",
    "reg = LinearRegression()\n",
    "reg.fit(src_fids, tgt_fids)\n",
    "A = reg.coef_\n",
    "b = reg.intercept_\n",
    "elec_3d = elec_2d_scaled @ A.T + b\n",
    "\n",
    "# Plot the 3D electrode positions\n",
    "fig = plt.figure(figsize=(6, 6))\n",
    "ax = fig.add_subplot(111, projection='3d')\n",
    "ax.scatter(elec_3d[:, 0], elec_3d[:, 1], elec_3d[:, 2], c='b')\n",
    "\n",
    "for i, label in enumerate(labels):\n",
    "    ax.text(elec_3d[i, 0], elec_3d[i, 1], elec_3d[i, 2], label)\n",
    "\n",
    "ax.set_title(\"Transformed Electrode Positions (3D)\")\n",
    "ax.set_xlabel(\"X (m)\")\n",
    "ax.set_ylabel(\"Y (m)\")\n",
    "ax.set_zlabel(\"Z (m)\")\n",
    "plt.tight_layout()\n",
    "plt.show()\n"
   ]
  },
  {
   "cell_type": "code",
   "execution_count": null,
   "id": "a3caaf9e",
   "metadata": {},
   "outputs": [],
   "source": [
    "\n",
    "# Create montage from transformed 3D electrode positions\n",
    "ch_pos = dict(zip(labels, elec_3d))\n",
    "montage = mne.channels.make_dig_montage(ch_pos=ch_pos, coord_frame='head')\n",
    "\n",
    "# Create a fake info object\n",
    "info = mne.create_info(ch_names=labels, sfreq=1000., ch_types='eeg')\n",
    "info.set_montage(montage)\n",
    "\n",
    "# Plot in 2D\n",
    "fig_2d = info.plot_sensors(kind='topomap', show_names=True)\n",
    "\n",
    "# Plot in 3D\n",
    "# fig_3d = mne.viz.plot_alignment(info, dig=True, show_axes=True)\n",
    "\n",
    "# (fig_2d, fig_3d)\n"
   ]
  },
  {
   "cell_type": "code",
   "execution_count": null,
   "id": "2e477248",
   "metadata": {},
   "outputs": [],
   "source": [
    "montages = mne.channels.get_builtin_montages(descriptions=True)\n",
    "easycap_montage = mne.channels.make_standard_montage(montages[1][0])\n",
    "print(easycap_montage)\n",
    "easycap_montage.get_positions()\n",
    "\n",
    "# easycap_montage.plot(kind=\"topomap\")"
   ]
  }
 ],
 "metadata": {
  "kernelspec": {
   "display_name": "brain",
   "language": "python",
   "name": "python3"
  },
  "language_info": {
   "codemirror_mode": {
    "name": "ipython",
    "version": 3
   },
   "file_extension": ".py",
   "mimetype": "text/x-python",
   "name": "python",
   "nbconvert_exporter": "python",
   "pygments_lexer": "ipython3",
   "version": "3.12.2"
  }
 },
 "nbformat": 4,
 "nbformat_minor": 5
}
