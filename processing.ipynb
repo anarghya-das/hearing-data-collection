{
 "cells": [
  {
   "cell_type": "code",
   "execution_count": 1,
   "metadata": {},
   "outputs": [],
   "source": [
    "import pyxdf\n",
    "import numpy as np\n",
    "import subprocess\n",
    "import os\n",
    "from tqdm import tqdm\n",
    "from datetime import datetime\n",
    "import cv2"
   ]
  },
  {
   "cell_type": "code",
   "execution_count": 2,
   "metadata": {},
   "outputs": [],
   "source": [
    "def closest_points_vector(eeg_timestamps, marker_timestamps):\n",
    "    # Get the insertion indices for each marker timestamp\n",
    "    indices = np.searchsorted(eeg_timestamps, marker_timestamps)\n",
    "\n",
    "    # Preallocate the output array as a copy of indices.\n",
    "    closest_eeg_indices = indices.copy()\n",
    "\n",
    "    # Create a mask for markers where the insertion index equals 0 (marker before first EEG timestamp)\n",
    "    mask_begin = (indices == 0)\n",
    "    # For these, the closest EEG index is 0 (they cannot use a previous value)\n",
    "    closest_eeg_indices[mask_begin] = 0\n",
    "\n",
    "    # Create a mask for markers where the insertion index equals the length of the EEG timestamps\n",
    "    mask_end = (indices == len(eeg_timestamps))\n",
    "    # For these markers, set the closest EEG index to the last index\n",
    "    closest_eeg_indices[mask_end] = len(eeg_timestamps) - 1\n",
    "\n",
    "    # Create a mask for the \"middle\" markers, i.e., not at the very beginning or end\n",
    "    mask_middle = (indices > 0) & (indices < len(eeg_timestamps))\n",
    "\n",
    "    # For markers in the middle, compute the distance to the previous and next EEG timestamps:\n",
    "    prev_times = eeg_timestamps[indices[mask_middle] - 1]\n",
    "    next_times = eeg_timestamps[indices[mask_middle]]\n",
    "    marker_times_middle = marker_timestamps[mask_middle]\n",
    "\n",
    "    # Calculate the differences\n",
    "    diff_prev = marker_times_middle - prev_times\n",
    "    diff_next = next_times - marker_times_middle\n",
    "\n",
    "    # For each marker in the middle, choose the index of the EEG timestamp that is closer:\n",
    "    # If the distance to the previous timestamp is less or equal than the distance to the next,\n",
    "    # then we pick indices[mask_middle]-1; otherwise, we pick indices[mask_middle].\n",
    "    closest_eeg_indices[mask_middle] = np.where(diff_prev <= diff_next,\n",
    "                                                indices[mask_middle] - 1,\n",
    "                                                indices[mask_middle])\n",
    "\n",
    "    return closest_eeg_indices\n",
    "\n",
    "\n",
    "def split_video(input_file, time_segments, output_folder):\n",
    "    cap = cv2.VideoCapture(input_file)\n",
    "    fps = cap.get(cv2.CAP_PROP_FPS)\n",
    "    frame_count = int(cap.get(cv2.CAP_PROP_FRAME_COUNT))\n",
    "    duration = frame_count / fps\n",
    "    print(f'Video FPS: {fps}')\n",
    "    print(f'Video duration: {duration} seconds')\n",
    "    print(f'Number of time segments: {frame_count}')\n",
    "\n",
    "    file_name = os.path.splitext(os.path.basename(input_file))[0]\n",
    "    output_folder = os.path.join(output_folder, file_name)\n",
    "    os.makedirs(output_folder, exist_ok=True)\n",
    "\n",
    "    for (start_frame, end_frame, segment_name) in tqdm(time_segments):\n",
    "        output_path = os.path.join(output_folder, f'{segment_name}.avi')\n",
    "\n",
    "        # Set the video capture to the start frame\n",
    "        cap.set(cv2.CAP_PROP_POS_FRAMES, int(start_frame))\n",
    "        # Define the codec and create VideoWriter object\n",
    "        fourcc = cv2.VideoWriter_fourcc(*'XVID')\n",
    "        out = cv2.VideoWriter(output_path, fourcc, fps,\n",
    "                              (int(cap.get(3)), int(cap.get(4))))\n",
    "\n",
    "        # Read and write frames from start to end\n",
    "        for _ in range(int(start_frame), int(end_frame)):\n",
    "            ret, frame = cap.read()\n",
    "            if not ret:\n",
    "                break\n",
    "            out.write(frame)\n",
    "        out.release()\n",
    "\n",
    "    cap.release()"
   ]
  },
  {
   "cell_type": "code",
   "execution_count": 3,
   "metadata": {},
   "outputs": [
    {
     "name": "stderr",
     "output_type": "stream",
     "text": [
      "Stream 2: Calculated effective sampling rate 0.0000 Hz is different from specified rate 50.0000 Hz.\n"
     ]
    }
   ],
   "source": [
    "EXP_ROOT = \"exp_data\"\n",
    "INPUT_ROOT = \"input\"\n",
    "OUTPUT_ROOT = \"output\"\n",
    "sub_id = 991031\n",
    "DATA_FILE = os.path.join(EXP_ROOT,f\"sub-{sub_id}\", f\"sub-{sub_id}_task-hearing_run-001.xdf\")\n",
    "RAW_VIDEO = os.path.join(INPUT_ROOT,f\"{sub_id}.avi\")\n",
    "data, header = pyxdf.load_xdf(DATA_FILE)\n",
    "# DATA_FILE = os.path.join(EXP_ROOT,\"sub-P001_ses-S001_task-Default_run-001_eeg.xdf\")\n",
    "# DATA_FILE = os.path.join(f\"C:\\\\Users\\\\anarg\\\\Documents\\\\CurrentStudy\\\\sub-{i}\\\\sub-{i}_task-hearing_run-001.xdf\")\n",
    "marker_stream = next(stream for stream in data if stream['info']['type'][0] == 'Markers')\n",
    "video_stream = next(stream for stream in data if stream['info']['type'][0] == 'Video')\n",
    "ppg_stream = next(stream for stream in data if stream['info']['type'][0] == 'PPG')\n",
    "eeg_stream = next(stream for stream in data if stream['info']['type'][0] == 'EEG')"
   ]
  },
  {
   "cell_type": "code",
   "execution_count": null,
   "metadata": {},
   "outputs": [
    {
     "data": {
      "text/plain": [
       "(16, 133470)"
      ]
     },
     "execution_count": 9,
     "metadata": {},
     "output_type": "execute_result"
    }
   ],
   "source": [
    "import mne\n",
    "\n",
    "ch_labels = ['L1', 'L2', 'L4', 'L5', 'L7', 'L8', 'L9', 'L10',\n",
    "             'R1', 'R2', 'R4', 'R5', 'R7', 'R8', 'R9', 'R10']\n",
    "sampling_rate = 125\n",
    "\n",
    "eeg_data = eeg_stream['time_series'].swapaxes(1, 0)\n",
    "info = mne.create_info(\n",
    "    ch_names=ch_labels, sfreq=sampling_rate, ch_types='eeg')"
   ]
  },
  {
   "cell_type": "code",
   "execution_count": 29,
   "metadata": {},
   "outputs": [
    {
     "name": "stdout",
     "output_type": "stream",
     "text": [
      "Length of video segments: 257, Length of PPG: 257, Length of Markers: 257\n",
      "[['start'], ['pmt_stim'], ['pmt_poststim'], ['pmt_stim'], ['pmt_poststim'], ['pmt_stim'], ['pmt_poststim'], ['pmt_stim'], ['pmt_poststim'], ['pmt_stim'], ['pmt_poststim'], ['hlt_prestim-tone_3dB'], ['hlt_stim-tone_3dB'], ['hlt_poststim-tone_3dB'], ['hlt_response-tone_3dB'], ['hlt_prestim-tone_5dB'], ['hlt_stim-tone_5dB'], ['hlt_poststim-tone_5dB'], ['hlt_response-tone_5dB'], ['hlt_prestim-tone_10dB'], ['hlt_stim-tone_10dB'], ['hlt_poststim-tone_10dB'], ['hlt_response-tone_10dB'], ['hlt_prestim-tone_20dB'], ['hlt_stim-tone_20dB'], ['hlt_poststim-tone_20dB'], ['hlt_response-tone_20dB'], ['hlt_prestim-tone_40dB'], ['hlt_stim-tone_40dB'], ['hlt_poststim-tone_40dB'], ['hlt_response-tone_40dB'], ['hlt_prestim-tone_3dB'], ['hlt_stim-tone_3dB'], ['hlt_poststim-tone_3dB'], ['hlt_response-tone_3dB'], ['hlt_prestim-tone_5dB'], ['hlt_stim-tone_5dB'], ['hlt_poststim-tone_5dB'], ['hlt_response-tone_5dB'], ['hlt_prestim-tone_10dB'], ['hlt_stim-tone_10dB'], ['hlt_poststim-tone_10dB'], ['hlt_response-tone_10dB'], ['hlt_prestim-tone_20dB'], ['hlt_stim-tone_20dB'], ['hlt_poststim-tone_20dB'], ['hlt_response-tone_20dB'], ['hlt_prestim-tone_40dB'], ['hlt_stim-tone_40dB'], ['hlt_poststim-tone_40dB'], ['hlt_response-tone_40dB'], ['hlt_prestim-tone_3dB'], ['hlt_stim-tone_3dB'], ['hlt_poststim-tone_3dB'], ['hlt_response-tone_3dB'], ['hlt_prestim-tone_5dB'], ['hlt_stim-tone_5dB'], ['hlt_poststim-tone_5dB'], ['hlt_response-tone_5dB'], ['hlt_prestim-tone_10dB'], ['hlt_stim-tone_10dB'], ['hlt_poststim-tone_10dB'], ['hlt_response-tone_10dB'], ['hlt_prestim-tone_20dB'], ['hlt_stim-tone_20dB'], ['hlt_poststim-tone_20dB'], ['hlt_response-tone_20dB'], ['hlt_prestim-tone_40dB'], ['hlt_stim-tone_40dB'], ['hlt_poststim-tone_40dB'], ['hlt_response-tone_40dB'], ['hlt_prestim-tone_3dB'], ['hlt_stim-tone_3dB'], ['hlt_poststim-tone_3dB'], ['hlt_response-tone_3dB'], ['hlt_prestim-tone_5dB'], ['hlt_stim-tone_5dB'], ['hlt_poststim-tone_5dB'], ['hlt_response-tone_5dB'], ['hlt_prestim-tone_10dB'], ['hlt_stim-tone_10dB'], ['hlt_poststim-tone_10dB'], ['hlt_response-tone_10dB'], ['hlt_prestim-tone_20dB'], ['hlt_stim-tone_20dB'], ['hlt_poststim-tone_20dB'], ['hlt_response-tone_20dB'], ['hlt_prestim-tone_40dB'], ['hlt_stim-tone_40dB'], ['hlt_poststim-tone_40dB'], ['hlt_response-tone_40dB'], ['hlt_prestim-tone_3dB'], ['hlt_stim-tone_3dB'], ['hlt_poststim-tone_3dB'], ['hlt_response-tone_3dB'], ['hlt_prestim-tone_5dB'], ['hlt_stim-tone_5dB'], ['hlt_poststim-tone_5dB'], ['hlt_response-tone_5dB'], ['hlt_prestim-tone_10dB'], ['hlt_stim-tone_10dB'], ['hlt_poststim-tone_10dB'], ['hlt_response-tone_10dB'], ['hlt_prestim-tone_20dB'], ['hlt_stim-tone_20dB'], ['hlt_poststim-tone_20dB'], ['hlt_response-tone_20dB'], ['hlt_prestim-tone_40dB'], ['hlt_stim-tone_40dB'], ['hlt_poststim-tone_40dB'], ['hlt_response-tone_40dB'], ['let_prestim-6_SNR0'], ['let_stim-6_SNR0'], ['let_poststim-6_SNR0'], ['let_response-6_SNR0'], ['let_prestim-10_SNR5'], ['let_stim-10_SNR5'], ['let_poststim-10_SNR5'], ['let_response-10_SNR5'], ['let_prestim-18_SNR10'], ['let_stim-18_SNR10'], ['let_poststim-18_SNR10'], ['let_response-18_SNR10'], ['let_prestim-14_SNR15'], ['let_stim-14_SNR15'], ['let_poststim-14_SNR15'], ['let_response-14_SNR15'], ['let_prestim-3_SNR20'], ['let_stim-3_SNR20'], ['let_poststim-3_SNR20'], ['let_response-3_SNR20'], ['let_prestim-6_SNR0'], ['let_stim-6_SNR0'], ['let_poststim-6_SNR0'], ['let_response-6_SNR0'], ['let_prestim-1_SNR5'], ['let_stim-1_SNR5'], ['let_poststim-1_SNR5'], ['let_response-1_SNR5'], ['let_prestim-11_SNR10'], ['let_stim-11_SNR10'], ['let_poststim-11_SNR10'], ['let_response-11_SNR10'], ['let_prestim-4_SNR15'], ['let_stim-4_SNR15'], ['let_poststim-4_SNR15'], ['let_response-4_SNR15'], ['let_prestim-8_SNR20'], ['let_stim-8_SNR20'], ['let_poststim-8_SNR20'], ['let_response-8_SNR20'], ['let_prestim-2_SNR0'], ['let_stim-2_SNR0'], ['let_poststim-2_SNR0'], ['let_response-2_SNR0'], ['let_prestim-11_SNR5'], ['let_stim-11_SNR5'], ['let_poststim-11_SNR5'], ['let_response-11_SNR5'], ['let_prestim-8_SNR10'], ['let_stim-8_SNR10'], ['let_poststim-8_SNR10'], ['let_response-8_SNR10'], ['let_prestim-20_SNR15'], ['let_stim-20_SNR15'], ['let_poststim-20_SNR15'], ['let_response-20_SNR15'], ['let_prestim-18_SNR20'], ['let_stim-18_SNR20'], ['let_poststim-18_SNR20'], ['let_response-18_SNR20'], ['let_prestim-9_SNR0'], ['let_stim-9_SNR0'], ['let_poststim-9_SNR0'], ['let_response-9_SNR0'], ['let_prestim-9_SNR5'], ['let_stim-9_SNR5'], ['let_poststim-9_SNR5'], ['let_response-9_SNR5'], ['let_prestim-20_SNR10'], ['let_stim-20_SNR10'], ['let_poststim-20_SNR10'], ['let_response-20_SNR10'], ['let_prestim-6_SNR15'], ['let_stim-6_SNR15'], ['let_poststim-6_SNR15'], ['let_response-6_SNR15'], ['let_prestim-17_SNR20'], ['let_stim-17_SNR20'], ['let_poststim-17_SNR20'], ['let_response-17_SNR20'], ['let_prestim-19_SNR0'], ['let_stim-19_SNR0'], ['let_poststim-19_SNR0'], ['let_response-19_SNR0'], ['let_prestim-12_SNR5'], ['let_stim-12_SNR5'], ['let_poststim-12_SNR5'], ['let_response-12_SNR5'], ['let_prestim-14_SNR10'], ['let_stim-14_SNR10'], ['let_poststim-14_SNR10'], ['let_response-14_SNR10'], ['let_prestim-8_SNR15'], ['let_stim-8_SNR15'], ['let_poststim-8_SNR15'], ['let_response-8_SNR15'], ['let_prestim-15_SNR20'], ['let_stim-15_SNR20'], ['let_poststim-15_SNR20'], ['let_response-15_SNR20'], ['ast_prestim-name'], ['ast_stim-control-waves_crashing_on_rock_beach'], ['ast_poststim-control-waves_crashing_on_rock_beach'], ['ast_prestim-name'], ['ast_stim-control-light_rain'], ['ast_poststim-control-light_rain'], ['ast_prestim-name'], ['ast_stim-control-leaves_russle_on_tree'], ['ast_poststim-control-leaves_russle_on_tree'], ['ast_prestim-name'], ['ast_stim-control-waves_crashing_on_rock_beach'], ['ast_poststim-control-waves_crashing_on_rock_beach'], ['ast_prestim-name'], ['ast_stim-control-leaves_russle_on_tree'], ['ast_poststim-control-leaves_russle_on_tree'], ['ast_prestim-name'], ['ast_stim-control-light_rain'], ['ast_poststim-control-light_rain'], ['ast_prestim-name'], ['ast_stim-control-leaves_russle_on_tree'], ['ast_poststim-control-leaves_russle_on_tree'], ['ast_prestim-name'], ['ast_stim-control-light_rain'], ['ast_poststim-control-light_rain'], ['ast_prestim-name'], ['ast_stim-control-leaves_russle_on_tree'], ['ast_poststim-control-leaves_russle_on_tree'], ['ast_prestim-name'], ['ast_stim-control-light_rain'], ['ast_poststim-control-light_rain'], ['ast_prestim-name'], ['ast_stim-control-light_rain'], ['ast_poststim-control-light_rain'], ['ast_prestim-name'], ['ast_stim-control-waves_crashing_on_rock_beach'], ['ast_poststim-control-waves_crashing_on_rock_beach'], ['ast_prestim-name'], ['ast_stim-control-waves_crashing_on_rock_beach'], ['ast_poststim-control-waves_crashing_on_rock_beach'], ['ast_prestim-name'], ['ast_stim-control-leaves_russle_on_tree'], ['ast_poststim-control-leaves_russle_on_tree'], ['ast_prestim-name'], ['ast_stim-control-waves_crashing_on_rock_beach'], ['ast_poststim-control-waves_crashing_on_rock_beach'], ['end']]\n",
      "[(134.0, 1778.0, 'start'), (1779.0, 1837.0, 'pmt_stim'), (1838.0, 2136.0, 'pmt_poststim'), (2137.0, 2195.0, 'pmt_stim'), (2196.0, 2494.0, 'pmt_poststim'), (2495.0, 2553.0, 'pmt_stim'), (2554.0, 2852.0, 'pmt_poststim'), (2853.0, 2911.0, 'pmt_stim'), (2912.0, 3210.0, 'pmt_poststim'), (3211.0, 3269.0, 'pmt_stim'), (3270.0, 4318.0, 'pmt_poststim'), (4319.0, 4468.0, 'hlt_prestim-tone_3dB'), (4469.0, 4527.0, 'hlt_stim-tone_3dB'), (4528.0, 4677.0, 'hlt_poststim-tone_3dB'), (4678.0, 4776.0, 'hlt_response-tone_3dB'), (4777.0, 4925.0, 'hlt_prestim-tone_5dB'), (4926.0, 4984.0, 'hlt_stim-tone_5dB'), (4985.0, 5134.0, 'hlt_poststim-tone_5dB'), (5135.0, 5156.0, 'hlt_response-tone_5dB'), (5157.0, 5305.0, 'hlt_prestim-tone_10dB'), (5306.0, 5365.0, 'hlt_stim-tone_10dB'), (5366.0, 5514.0, 'hlt_poststim-tone_10dB'), (5515.0, 5531.0, 'hlt_response-tone_10dB'), (5532.0, 5680.0, 'hlt_prestim-tone_20dB'), (5681.0, 5740.0, 'hlt_stim-tone_20dB'), (5741.0, 5889.0, 'hlt_poststim-tone_20dB'), (5890.0, 5934.0, 'hlt_response-tone_20dB'), (5935.0, 6084.0, 'hlt_prestim-tone_40dB'), (6085.0, 6143.0, 'hlt_stim-tone_40dB'), (6144.0, 6292.0, 'hlt_poststim-tone_40dB'), (6293.0, 6308.0, 'hlt_response-tone_40dB'), (6309.0, 6457.0, 'hlt_prestim-tone_3dB'), (6458.0, 6516.0, 'hlt_stim-tone_3dB'), (6517.0, 6666.0, 'hlt_poststim-tone_3dB'), (6667.0, 6683.0, 'hlt_response-tone_3dB'), (6684.0, 6832.0, 'hlt_prestim-tone_5dB'), (6833.0, 6891.0, 'hlt_stim-tone_5dB'), (6892.0, 7041.0, 'hlt_poststim-tone_5dB'), (7042.0, 7056.0, 'hlt_response-tone_5dB'), (7057.0, 7205.0, 'hlt_prestim-tone_10dB'), (7206.0, 7265.0, 'hlt_stim-tone_10dB'), (7266.0, 7414.0, 'hlt_poststim-tone_10dB'), (7415.0, 7430.0, 'hlt_response-tone_10dB'), (7431.0, 7579.0, 'hlt_prestim-tone_20dB'), (7580.0, 7639.0, 'hlt_stim-tone_20dB'), (7640.0, 7788.0, 'hlt_poststim-tone_20dB'), (7789.0, 7827.0, 'hlt_response-tone_20dB'), (7828.0, 7976.0, 'hlt_prestim-tone_40dB'), (7977.0, 8036.0, 'hlt_stim-tone_40dB'), (8037.0, 8185.0, 'hlt_poststim-tone_40dB'), (8186.0, 8201.0, 'hlt_response-tone_40dB'), (8202.0, 8350.0, 'hlt_prestim-tone_3dB'), (8351.0, 8410.0, 'hlt_stim-tone_3dB'), (8411.0, 8559.0, 'hlt_poststim-tone_3dB'), (8560.0, 8576.0, 'hlt_response-tone_3dB'), (8577.0, 8725.0, 'hlt_prestim-tone_5dB'), (8726.0, 8784.0, 'hlt_stim-tone_5dB'), (8785.0, 8934.0, 'hlt_poststim-tone_5dB'), (8935.0, 8952.0, 'hlt_response-tone_5dB'), (8953.0, 9101.0, 'hlt_prestim-tone_10dB'), (9102.0, 9160.0, 'hlt_stim-tone_10dB'), (9161.0, 9310.0, 'hlt_poststim-tone_10dB'), (9311.0, 9326.0, 'hlt_response-tone_10dB'), (9327.0, 9475.0, 'hlt_prestim-tone_20dB'), (9476.0, 9535.0, 'hlt_stim-tone_20dB'), (9536.0, 9684.0, 'hlt_poststim-tone_20dB'), (9685.0, 9701.0, 'hlt_response-tone_20dB'), (9702.0, 9850.0, 'hlt_prestim-tone_40dB'), (9851.0, 9910.0, 'hlt_stim-tone_40dB'), (9911.0, 10059.0, 'hlt_poststim-tone_40dB'), (10060.0, 10075.0, 'hlt_response-tone_40dB'), (10076.0, 10224.0, 'hlt_prestim-tone_3dB'), (10225.0, 10284.0, 'hlt_stim-tone_3dB'), (10285.0, 10433.0, 'hlt_poststim-tone_3dB'), (10434.0, 10450.0, 'hlt_response-tone_3dB'), (10451.0, 10599.0, 'hlt_prestim-tone_5dB'), (10600.0, 10659.0, 'hlt_stim-tone_5dB'), (10660.0, 10808.0, 'hlt_poststim-tone_5dB'), (10809.0, 10822.0, 'hlt_response-tone_5dB'), (10823.0, 10971.0, 'hlt_prestim-tone_10dB'), (10972.0, 11031.0, 'hlt_stim-tone_10dB'), (11032.0, 11180.0, 'hlt_poststim-tone_10dB'), (11181.0, 11196.0, 'hlt_response-tone_10dB'), (11197.0, 11345.0, 'hlt_prestim-tone_20dB'), (11346.0, 11405.0, 'hlt_stim-tone_20dB'), (11406.0, 11554.0, 'hlt_poststim-tone_20dB'), (11555.0, 11568.0, 'hlt_response-tone_20dB'), (11569.0, 11717.0, 'hlt_prestim-tone_40dB'), (11718.0, 11776.0, 'hlt_stim-tone_40dB'), (11777.0, 11926.0, 'hlt_poststim-tone_40dB'), (11927.0, 11944.0, 'hlt_response-tone_40dB'), (11945.0, 12093.0, 'hlt_prestim-tone_3dB'), (12094.0, 12153.0, 'hlt_stim-tone_3dB'), (12154.0, 12302.0, 'hlt_poststim-tone_3dB'), (12303.0, 12318.0, 'hlt_response-tone_3dB'), (12319.0, 12467.0, 'hlt_prestim-tone_5dB'), (12468.0, 12526.0, 'hlt_stim-tone_5dB'), (12527.0, 12676.0, 'hlt_poststim-tone_5dB'), (12677.0, 12691.0, 'hlt_response-tone_5dB'), (12692.0, 12840.0, 'hlt_prestim-tone_10dB'), (12841.0, 12900.0, 'hlt_stim-tone_10dB'), (12901.0, 13049.0, 'hlt_poststim-tone_10dB'), (13050.0, 13069.0, 'hlt_response-tone_10dB'), (13070.0, 13218.0, 'hlt_prestim-tone_20dB'), (13219.0, 13278.0, 'hlt_stim-tone_20dB'), (13279.0, 13427.0, 'hlt_poststim-tone_20dB'), (13428.0, 13469.0, 'hlt_response-tone_20dB'), (13470.0, 13618.0, 'hlt_prestim-tone_40dB'), (13619.0, 13678.0, 'hlt_stim-tone_40dB'), (13679.0, 13827.0, 'hlt_poststim-tone_40dB'), (13828.0, 14426.0, 'hlt_response-tone_40dB'), (14427.0, 14575.0, 'let_prestim-6_SNR0'), (14576.0, 14635.0, 'let_stim-6_SNR0'), (14636.0, 14784.0, 'let_poststim-6_SNR0'), (14785.0, 14868.0, 'let_response-6_SNR0'), (14869.0, 15018.0, 'let_prestim-10_SNR5'), (15019.0, 15077.0, 'let_stim-10_SNR5'), (15078.0, 15226.0, 'let_poststim-10_SNR5'), (15227.0, 15384.0, 'let_response-10_SNR5'), (15385.0, 15534.0, 'let_prestim-18_SNR10'), (15535.0, 15593.0, 'let_stim-18_SNR10'), (15594.0, 15742.0, 'let_poststim-18_SNR10'), (15743.0, 15812.0, 'let_response-18_SNR10'), (15813.0, 15961.0, 'let_prestim-14_SNR15'), (15962.0, 16021.0, 'let_stim-14_SNR15'), (16022.0, 16170.0, 'let_poststim-14_SNR15'), (16171.0, 16226.0, 'let_response-14_SNR15'), (16227.0, 16375.0, 'let_prestim-3_SNR20'), (16376.0, 16435.0, 'let_stim-3_SNR20'), (16436.0, 16584.0, 'let_poststim-3_SNR20'), (16585.0, 16613.0, 'let_response-3_SNR20'), (16614.0, 16763.0, 'let_prestim-6_SNR0'), (16764.0, 16822.0, 'let_stim-6_SNR0'), (16823.0, 16971.0, 'let_poststim-6_SNR0'), (16972.0, 17021.0, 'let_response-6_SNR0'), (17022.0, 17170.0, 'let_prestim-1_SNR5'), (17171.0, 17229.0, 'let_stim-1_SNR5'), (17230.0, 17379.0, 'let_poststim-1_SNR5'), (17380.0, 17401.0, 'let_response-1_SNR5'), (17402.0, 17550.0, 'let_prestim-11_SNR10'), (17551.0, 17610.0, 'let_stim-11_SNR10'), (17611.0, 17760.0, 'let_poststim-11_SNR10'), (17761.0, 17808.0, 'let_response-11_SNR10'), (17809.0, 17957.0, 'let_prestim-4_SNR15'), (17958.0, 18017.0, 'let_stim-4_SNR15'), (18018.0, 18166.0, 'let_poststim-4_SNR15'), (18167.0, 18193.0, 'let_response-4_SNR15'), (18194.0, 18343.0, 'let_prestim-8_SNR20'), (18344.0, 18402.0, 'let_stim-8_SNR20'), (18403.0, 18551.0, 'let_poststim-8_SNR20'), (18552.0, 18582.0, 'let_response-8_SNR20'), (18583.0, 18731.0, 'let_prestim-2_SNR0'), (18732.0, 18791.0, 'let_stim-2_SNR0'), (18792.0, 18940.0, 'let_poststim-2_SNR0'), (18941.0, 18972.0, 'let_response-2_SNR0'), (18973.0, 19121.0, 'let_prestim-11_SNR5'), (19122.0, 19181.0, 'let_stim-11_SNR5'), (19182.0, 19330.0, 'let_poststim-11_SNR5'), (19331.0, 19363.0, 'let_response-11_SNR5'), (19364.0, 19513.0, 'let_prestim-8_SNR10'), (19514.0, 19572.0, 'let_stim-8_SNR10'), (19573.0, 19721.0, 'let_poststim-8_SNR10'), (19722.0, 19741.0, 'let_response-8_SNR10'), (19742.0, 19890.0, 'let_prestim-20_SNR15'), (19891.0, 19949.0, 'let_stim-20_SNR15'), (19950.0, 20099.0, 'let_poststim-20_SNR15'), (20100.0, 20138.0, 'let_response-20_SNR15'), (20139.0, 20288.0, 'let_prestim-18_SNR20'), (20289.0, 20347.0, 'let_stim-18_SNR20'), (20348.0, 20496.0, 'let_poststim-18_SNR20'), (20497.0, 20553.0, 'let_response-18_SNR20'), (20554.0, 20702.0, 'let_prestim-9_SNR0'), (20703.0, 20762.0, 'let_stim-9_SNR0'), (20763.0, 20911.0, 'let_poststim-9_SNR0'), (20912.0, 20935.0, 'let_response-9_SNR0'), (20936.0, 21084.0, 'let_prestim-9_SNR5'), (21085.0, 21144.0, 'let_stim-9_SNR5'), (21145.0, 21293.0, 'let_poststim-9_SNR5'), (21294.0, 21320.0, 'let_response-9_SNR5'), (21321.0, 21469.0, 'let_prestim-20_SNR10'), (21470.0, 21529.0, 'let_stim-20_SNR10'), (21530.0, 21678.0, 'let_poststim-20_SNR10'), (21679.0, 21712.0, 'let_response-20_SNR10'), (21713.0, 21861.0, 'let_prestim-6_SNR15'), (21862.0, 21921.0, 'let_stim-6_SNR15'), (21922.0, 22070.0, 'let_poststim-6_SNR15'), (22071.0, 22099.0, 'let_response-6_SNR15'), (22100.0, 22248.0, 'let_prestim-17_SNR20'), (22249.0, 22308.0, 'let_stim-17_SNR20'), (22309.0, 22457.0, 'let_poststim-17_SNR20'), (22458.0, 22503.0, 'let_response-17_SNR20'), (22504.0, 22653.0, 'let_prestim-19_SNR0'), (22654.0, 22712.0, 'let_stim-19_SNR0'), (22713.0, 22861.0, 'let_poststim-19_SNR0'), (22862.0, 22894.0, 'let_response-19_SNR0'), (22895.0, 23044.0, 'let_prestim-12_SNR5'), (23045.0, 23103.0, 'let_stim-12_SNR5'), (23104.0, 23252.0, 'let_poststim-12_SNR5'), (23253.0, 23292.0, 'let_response-12_SNR5'), (23293.0, 23441.0, 'let_prestim-14_SNR10'), (23442.0, 23500.0, 'let_stim-14_SNR10'), (23501.0, 23650.0, 'let_poststim-14_SNR10'), (23651.0, 23702.0, 'let_response-14_SNR10'), (23703.0, 23852.0, 'let_prestim-8_SNR15'), (23853.0, 23911.0, 'let_stim-8_SNR15'), (23912.0, 24060.0, 'let_poststim-8_SNR15'), (24061.0, 24089.0, 'let_response-8_SNR15'), (24090.0, 24238.0, 'let_prestim-15_SNR20'), (24239.0, 24297.0, 'let_stim-15_SNR20'), (24298.0, 24446.0, 'let_poststim-15_SNR20'), (24447.0, 24947.0, 'let_response-15_SNR20'), (24948.0, 25104.0, 'ast_prestim-name'), (25105.0, 25261.0, 'ast_stim-control-waves_crashing_on_rock_beach'), (25262.0, 25409.0, 'ast_poststim-control-waves_crashing_on_rock_beach'), (25410.0, 25565.0, 'ast_prestim-name'), (25566.0, 25720.0, 'ast_stim-control-light_rain'), (25721.0, 25869.0, 'ast_poststim-control-light_rain'), (25870.0, 26020.0, 'ast_prestim-name'), (26021.0, 26170.0, 'ast_stim-control-leaves_russle_on_tree'), (26171.0, 26319.0, 'ast_poststim-control-leaves_russle_on_tree'), (26320.0, 26476.0, 'ast_prestim-name'), (26477.0, 26633.0, 'ast_stim-control-waves_crashing_on_rock_beach'), (26634.0, 26782.0, 'ast_poststim-control-waves_crashing_on_rock_beach'), (26783.0, 26932.0, 'ast_prestim-name'), (26933.0, 27083.0, 'ast_stim-control-leaves_russle_on_tree'), (27084.0, 27231.0, 'ast_poststim-control-leaves_russle_on_tree'), (27232.0, 27386.0, 'ast_prestim-name'), (27387.0, 27541.0, 'ast_stim-control-light_rain'), (27542.0, 27690.0, 'ast_poststim-control-light_rain'), (27691.0, 27841.0, 'ast_prestim-name'), (27842.0, 27991.0, 'ast_stim-control-leaves_russle_on_tree'), (27992.0, 28140.0, 'ast_poststim-control-leaves_russle_on_tree'), (28141.0, 28295.0, 'ast_prestim-name'), (28296.0, 28450.0, 'ast_stim-control-light_rain'), (28451.0, 28599.0, 'ast_poststim-control-light_rain'), (28600.0, 28749.0, 'ast_prestim-name'), (28750.0, 28900.0, 'ast_stim-control-leaves_russle_on_tree'), (28901.0, 29048.0, 'ast_poststim-control-leaves_russle_on_tree'), (29049.0, 29204.0, 'ast_prestim-name'), (29205.0, 29359.0, 'ast_stim-control-light_rain'), (29360.0, 29508.0, 'ast_poststim-control-light_rain'), (29509.0, 29663.0, 'ast_prestim-name'), (29664.0, 29818.0, 'ast_stim-control-light_rain'), (29819.0, 29967.0, 'ast_poststim-control-light_rain'), (29968.0, 30124.0, 'ast_prestim-name'), (30125.0, 30280.0, 'ast_stim-control-waves_crashing_on_rock_beach'), (30281.0, 30429.0, 'ast_poststim-control-waves_crashing_on_rock_beach'), (30430.0, 30586.0, 'ast_prestim-name'), (30587.0, 30742.0, 'ast_stim-control-waves_crashing_on_rock_beach'), (30743.0, 30891.0, 'ast_poststim-control-waves_crashing_on_rock_beach'), (30892.0, 31041.0, 'ast_prestim-name'), (31042.0, 31192.0, 'ast_stim-control-leaves_russle_on_tree'), (31193.0, 31341.0, 'ast_poststim-control-leaves_russle_on_tree'), (31342.0, 31497.0, 'ast_prestim-name'), (31498.0, 31654.0, 'ast_stim-control-waves_crashing_on_rock_beach'), (31655.0, 31803.0, 'ast_poststim-control-waves_crashing_on_rock_beach'), (31804.0, 31831.0, 'end')]\n"
     ]
    }
   ],
   "source": [
    "time_stamps_list = [video_stream['time_stamps'], ppg_stream['time_stamps']]\n",
    "modality_list = [video_stream['time_series'].squeeze(), ppg_stream['time_series'].squeeze()]\n",
    "segments = segment_modalities_optimized(marker_stream['time_stamps'],time_stamps_list,modality_list)\n",
    "segmented_video_frames = segments[0]\n",
    "segmented_ppg = segments[1]\n",
    "markers = marker_stream['time_series']\n",
    "print(f\"Length of video segments: {len(segmented_video_frames)}, Length of PPG: {len(segmented_ppg)}, Length of Markers: {len(markers)}\")\n",
    "print(markers)\n",
    "segment_arr = [(segmented_video_frames[i][0], segmented_video_frames[i][-1], markers[i][0]) for i in range(len(segmented_video_frames))]\n",
    "print(segment_arr)"
   ]
  },
  {
   "cell_type": "code",
   "execution_count": 30,
   "metadata": {},
   "outputs": [
    {
     "data": {
      "text/plain": [
       "[<matplotlib.lines.Line2D at 0x13c7f4990>]"
      ]
     },
     "execution_count": 30,
     "metadata": {},
     "output_type": "execute_result"
    },
    {
     "data": {
      "image/png": "[encoded data removed]",
      "text/plain": [
       "<Figure size 640x480 with 1 Axes>"
      ]
     },
     "metadata": {},
     "output_type": "display_data"
    }
   ],
   "source": [
    "pp = ppg_stream['time_series'].squeeze()\n",
    "import matplotlib.pyplot as plt\n",
    "plt.plot(segmented_ppg[4])"
   ]
  },
  {
   "cell_type": "code",
   "execution_count": null,
   "metadata": {},
   "outputs": [],
   "source": [
    "ppg_stream['time_series'].squeeze()"
   ]
  },
  {
   "cell_type": "code",
   "execution_count": 25,
   "metadata": {},
   "outputs": [
    {
     "name": "stdout",
     "output_type": "stream",
     "text": [
      "Video FPS: 30.0\n",
      "Video duration: 89.4 seconds\n",
      "Number of time segments: 2682\n"
     ]
    },
    {
     "name": "stderr",
     "output_type": "stream",
     "text": [
      "100%|██████████| 15/15 [00:02<00:00,  5.83it/s]\n"
     ]
    }
   ],
   "source": [
    "split_video(RAW_VIDEO, segment_arr, OUTPUT_ROOT)"
   ]
  },
  {
   "cell_type": "code",
   "execution_count": null,
   "metadata": {},
   "outputs": [],
   "source": [
    "for s in segment_arr:\n",
    "    print(f\"Start: {s[0]:.2f}, End: {s[1]:.2f}, Marker: {s[2]}, Duration: {(s[1]-s[0])/30:.2f}\")"
   ]
  }
 ],
 "metadata": {
  "kernelspec": {
   "display_name": "lsl",
   "language": "python",
   "name": "python3"
  },
  "language_info": {
   "codemirror_mode": {
    "name": "ipython",
    "version": 3
   },
   "file_extension": ".py",
   "mimetype": "text/x-python",
   "name": "python",
   "nbconvert_exporter": "python",
   "pygments_lexer": "ipython3",
   "version": "3.11.8"
  }
 },
 "nbformat": 4,
 "nbformat_minor": 2
}
