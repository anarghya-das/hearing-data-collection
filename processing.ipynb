{
 "cells": [
  {
   "cell_type": "code",
   "execution_count": 5,
   "metadata": {},
   "outputs": [],
   "source": [
    "import pyxdf\n",
    "import numpy as np\n",
    "import subprocess\n",
    "import os\n",
    "from tqdm import tqdm\n",
    "from datetime import datetime\n",
    "import cv2"
   ]
  },
  {
   "cell_type": "code",
   "execution_count": 19,
   "metadata": {},
   "outputs": [],
   "source": [
    "def segment_modalities_optimized(marker_timestamps, modality_timestamps_list, modality_data_list):\n",
    "    \"\"\"\n",
    "    Optimized segmentation of data for multiple modalities based on marker timestamps, accommodating different sampling rates.\n",
    "\n",
    "    :param marker_timestamps: Timestamps of markers.\n",
    "    :param modality_timestamps_list: List of timestamps for each modality.\n",
    "    :param modality_data_list: List of data for each modality to be segmented.\n",
    "    :return: A list of lists of data segments for each modality.\n",
    "    \"\"\"\n",
    "    # Convert marker timestamps to numpy array for efficient computation\n",
    "    marker_timestamps = np.array(marker_timestamps)\n",
    "\n",
    "    all_segments = []\n",
    "\n",
    "    for modality_timestamps, modality_data in zip(modality_timestamps_list, modality_data_list):\n",
    "        # Convert modality timestamps to numpy array\n",
    "        modality_timestamps = np.array(modality_timestamps)\n",
    "\n",
    "        # Find insertion points for each marker in the modality timestamps\n",
    "        insert_points = np.searchsorted(modality_timestamps, marker_timestamps)\n",
    "        segments = []\n",
    "        for i in range(len(insert_points) - 1):\n",
    "            # Extract and store the segment\n",
    "            start_index = insert_points[i]\n",
    "            end_index = insert_points[i + 1]\n",
    "            segment = modality_data[start_index:end_index]\n",
    "            segments.append(segment)\n",
    "\n",
    "        # Handle the last segment, from the last marker to the end of the data stream\n",
    "        if insert_points[-1] < len(modality_data):\n",
    "            last_segment = modality_data[insert_points[-1]:]\n",
    "            segments.append(last_segment)\n",
    "        else:\n",
    "            # If the last marker is exactly at or beyond the end of the data, append an empty segment\n",
    "            segments.append([])\n",
    "\n",
    "        all_segments.append(segments)\n",
    "\n",
    "    return all_segments\n",
    "\n",
    "def split_video(input_file, time_segments, output_folder):\n",
    "    cap = cv2.VideoCapture(input_file)\n",
    "    fps = cap.get(cv2.CAP_PROP_FPS)\n",
    "    frame_count = int(cap.get(cv2.CAP_PROP_FRAME_COUNT))\n",
    "    duration = frame_count / fps\n",
    "    print(f'Video FPS: {fps}')\n",
    "    print(f'Video duration: {duration} seconds')\n",
    "    print(f'Number of time segments: {frame_count}')\n",
    "    \n",
    "    file_name = os.path.splitext(os.path.basename(input_file))[0]\n",
    "    output_folder = os.path.join(output_folder, file_name)\n",
    "    os.makedirs(output_folder, exist_ok=True)\n",
    "    \n",
    "    for (start_frame, end_frame, segment_name) in tqdm(time_segments):\n",
    "        output_path = os.path.join(output_folder, f'{segment_name}.avi')\n",
    "\n",
    "        # Set the video capture to the start frame\n",
    "        cap.set(cv2.CAP_PROP_POS_FRAMES, int(start_frame))\n",
    "        # Define the codec and create VideoWriter object\n",
    "        fourcc = cv2.VideoWriter_fourcc(*'XVID')\n",
    "        out = cv2.VideoWriter(output_path, fourcc, fps,\n",
    "                              (int(cap.get(3)), int(cap.get(4))))\n",
    "\n",
    "        # Read and write frames from start to end\n",
    "        for _ in range(int(start_frame), int(end_frame)):\n",
    "            ret, frame = cap.read()\n",
    "            if not ret:\n",
    "                break\n",
    "            out.write(frame)\n",
    "        out.release()\n",
    "\n",
    "    cap.release()"
   ]
  },
  {
   "cell_type": "code",
   "execution_count": 14,
   "metadata": {},
   "outputs": [],
   "source": [
    "EXP_ROOT = \"exp_data\"\n",
    "INPUT_ROOT = \"input\"\n",
    "OUTPUT_ROOT = \"output\"\n",
    "sub_id = \"530434\"\n",
    "DATA_FILE = os.path.join(EXP_ROOT,f\"sub-{sub_id}\", f\"sub-{sub_id}_task-hearing_run-001.xdf\")\n",
    "RAW_VIDEO = os.path.join(INPUT_ROOT,f\"{sub_id}.avi\")\n",
    "data, header = pyxdf.load_xdf(DATA_FILE)\n",
    "# DATA_FILE = os.path.join(EXP_ROOT,\"sub-P001_ses-S001_task-Default_run-001_eeg.xdf\")\n",
    "# DATA_FILE = os.path.join(f\"C:\\\\Users\\\\anarg\\\\Documents\\\\CurrentStudy\\\\sub-{i}\\\\sub-{i}_task-hearing_run-001.xdf\")\n",
    "marker_stream = next(stream for stream in data if stream['info']['type'][0] == 'Markers')\n",
    "video_stream = next(stream for stream in data if stream['info']['type'][0] == 'Video')\n",
    "ppg_stream = next(stream for stream in data if stream['info']['type'][0] == 'PPG')"
   ]
  },
  {
   "cell_type": "code",
   "execution_count": 17,
   "metadata": {},
   "outputs": [
    {
     "data": {
      "text/plain": [
       "array([  25.,   26.,   27., ..., 1261., 1262., 1263.], dtype=float32)"
      ]
     },
     "execution_count": 17,
     "metadata": {},
     "output_type": "execute_result"
    }
   ],
   "source": [
    "video_stream['time_series'].squeeze()"
   ]
  },
  {
   "cell_type": "code",
   "execution_count": 18,
   "metadata": {},
   "outputs": [
    {
     "data": {
      "text/plain": [
       "array([0.39156124, 0.63280106, 0.6989834 , ..., 0.398461  , 0.79288757,\n",
       "       0.25549686], dtype=float32)"
      ]
     },
     "execution_count": 18,
     "metadata": {},
     "output_type": "execute_result"
    }
   ],
   "source": [
    "ppg_stream['time_series'].squeeze()"
   ]
  },
  {
   "cell_type": "code",
   "execution_count": 31,
   "metadata": {},
   "outputs": [
    {
     "name": "stdout",
     "output_type": "stream",
     "text": [
      "Length of video segments: 19, Length of PPG: 19, Length of Markers: 19\n",
      "[['start'], ['pmt_prestim'], ['pmt_stim'], ['pmt_poststim'], ['hlt_prestim'], ['hlt_stim-500Hz_10dB'], ['hlt_poststim-500Hz_10dB'], ['hlt_response'], ['let_prestim'], ['let_stim-500Hz_15dB'], ['let_poststim-500Hz_15dB'], ['let_response'], ['ast_prestim'], ['ast_stim-bang'], ['ast_poststim-bang'], ['ast_prestim'], ['ast_stim-babycry'], ['ast_poststim-babycry'], ['end']]\n",
      "[(123.0, 186.0, 'start'), (187.0, 216.0, 'pmt_prestim'), (217.0, 276.0, 'pmt_stim'), (277.0, 305.0, 'pmt_poststim'), (306.0, 335.0, 'hlt_prestim'), (336.0, 395.0, 'hlt_stim-500Hz_10dB'), (396.0, 424.0, 'hlt_poststim-500Hz_10dB'), (425.0, 864.0, 'hlt_response'), (865.0, 893.0, 'let_prestim'), (894.0, 953.0, 'let_stim-500Hz_15dB'), (954.0, 983.0, 'let_poststim-500Hz_15dB'), (984.0, 995.0, 'let_response'), (996.0, 1025.0, 'ast_prestim'), (1026.0, 1085.0, 'ast_stim-bang'), (1086.0, 1114.0, 'ast_poststim-bang'), (1115.0, 1144.0, 'ast_prestim'), (1145.0, 1204.0, 'ast_stim-babycry'), (1205.0, 1234.0, 'ast_poststim-babycry'), (1235.0, 1263.0, 'end')]\n"
     ]
    }
   ],
   "source": [
    "time_stamps_list = [video_stream['time_stamps'], ppg_stream['time_stamps']]\n",
    "modality_list = [video_stream['time_series'].squeeze(), ppg_stream['time_series'].squeeze()]\n",
    "segments = segment_modalities_optimized(marker_stream['time_stamps'],time_stamps_list,modality_list)\n",
    "segmented_video_frames = segments[0]\n",
    "segmented_ppg = segments[1]\n",
    "markers = marker_stream['time_series']\n",
    "print(f\"Length of video segments: {len(segmented_video_frames)}, Length of PPG: {len(segmented_ppg)}, Length of Markers: {len(markers)}\")\n",
    "print(markers)\n",
    "segment_arr = [(segmented_video_frames[i][0], segmented_video_frames[i][-1], markers[i][0]) for i in range(len(segmented_video_frames))]\n",
    "print(segment_arr)"
   ]
  },
  {
   "cell_type": "code",
   "execution_count": null,
   "metadata": {},
   "outputs": [],
   "source": [
    "split_video(RAW_VIDEO, segment_arr, OUTPUT_ROOT)"
   ]
  },
  {
   "cell_type": "code",
   "execution_count": 13,
   "metadata": {},
   "outputs": [
    {
     "name": "stdout",
     "output_type": "stream",
     "text": [
      "Start: 123.00, End: 186.00, Marker: start, Duration: 2.10\n",
      "Start: 187.00, End: 216.00, Marker: pmt_prestim, Duration: 0.97\n",
      "Start: 217.00, End: 276.00, Marker: pmt_stim, Duration: 1.97\n",
      "Start: 277.00, End: 305.00, Marker: pmt_poststim, Duration: 0.93\n",
      "Start: 306.00, End: 335.00, Marker: hlt_prestim, Duration: 0.97\n",
      "Start: 336.00, End: 395.00, Marker: hlt_stim-500Hz_10dB, Duration: 1.97\n",
      "Start: 396.00, End: 424.00, Marker: hlt_poststim-500Hz_10dB, Duration: 0.93\n",
      "Start: 425.00, End: 864.00, Marker: hlt_response, Duration: 14.63\n",
      "Start: 865.00, End: 893.00, Marker: let_prestim, Duration: 0.93\n",
      "Start: 894.00, End: 953.00, Marker: let_stim-500Hz_15dB, Duration: 1.97\n",
      "Start: 954.00, End: 983.00, Marker: let_poststim-500Hz_15dB, Duration: 0.97\n",
      "Start: 984.00, End: 995.00, Marker: let_response, Duration: 0.37\n",
      "Start: 996.00, End: 1025.00, Marker: ast_prestim, Duration: 0.97\n",
      "Start: 1026.00, End: 1085.00, Marker: ast_stim-bang, Duration: 1.97\n",
      "Start: 1086.00, End: 1114.00, Marker: ast_poststim-bang, Duration: 0.93\n",
      "Start: 1115.00, End: 1144.00, Marker: ast_prestim, Duration: 0.97\n",
      "Start: 1145.00, End: 1204.00, Marker: ast_stim-babycry, Duration: 1.97\n",
      "Start: 1205.00, End: 1234.00, Marker: ast_poststim-babycry, Duration: 0.97\n",
      "Start: 1235.00, End: 1263.00, Marker: end, Duration: 0.93\n"
     ]
    }
   ],
   "source": [
    "for s in segment_arr:\n",
    "    print(f\"Start: {s[0]:.2f}, End: {s[1]:.2f}, Marker: {s[2]}, Duration: {(s[1]-s[0])/30:.2f}\")"
   ]
  },
  {
   "cell_type": "code",
   "execution_count": null,
   "metadata": {},
   "outputs": [],
   "source": []
  }
 ],
 "metadata": {
  "kernelspec": {
   "display_name": "Python 3",
   "language": "python",
   "name": "python3"
  },
  "language_info": {
   "codemirror_mode": {
    "name": "ipython",
    "version": 3
   },
   "file_extension": ".py",
   "mimetype": "text/x-python",
   "name": "python",
   "nbconvert_exporter": "python",
   "pygments_lexer": "ipython3",
   "version": "3.11.9"
  }
 },
 "nbformat": 4,
 "nbformat_minor": 2
}
