{
 "cells": [
  {
   "cell_type": "code",
   "execution_count": null,
   "metadata": {},
   "outputs": [],
   "source": [
    "import pyxdf\n",
    "import numpy as np\n",
    "import subprocess\n",
    "import os\n",
    "from tqdm import tqdm\n",
    "from datetime import datetime\n",
    "import cv2"
   ]
  },
  {
   "cell_type": "code",
   "execution_count": null,
   "metadata": {},
   "outputs": [],
   "source": [
    "def segment_modalities_optimized(marker_timestamps, modality_timestamps_list, modality_data_list):\n",
    "    \"\"\"\n",
    "    Optimized segmentation of data for multiple modalities based on marker timestamps, accommodating different sampling rates.\n",
    "\n",
    "    :param marker_timestamps: Timestamps of markers.\n",
    "    :param modality_timestamps_list: List of timestamps for each modality.\n",
    "    :param modality_data_list: List of data for each modality to be segmented.\n",
    "    :return: A list of lists of data segments for each modality.\n",
    "    \"\"\"\n",
    "    # Convert marker timestamps to numpy array for efficient computation\n",
    "    marker_timestamps = np.array(marker_timestamps)\n",
    "\n",
    "    all_segments = []\n",
    "\n",
    "    for modality_timestamps, modality_data in zip(modality_timestamps_list, modality_data_list):\n",
    "        # Convert modality timestamps to numpy array\n",
    "        modality_timestamps = np.array(modality_timestamps)\n",
    "\n",
    "        # Find insertion points for each marker in the modality timestamps\n",
    "        insert_points = np.searchsorted(modality_timestamps, marker_timestamps)\n",
    "        segments = []\n",
    "        for i in range(len(insert_points) - 1):\n",
    "            # Extract and store the segment\n",
    "            start_index = insert_points[i]\n",
    "            end_index = insert_points[i + 1]\n",
    "            segment = modality_data[start_index:end_index]\n",
    "            segments.append(segment)\n",
    "\n",
    "        # Handle the last segment, from the last marker to the end of the data stream\n",
    "        if insert_points[-1] < len(modality_data):\n",
    "            last_segment = modality_data[insert_points[-1]:]\n",
    "            segments.append(last_segment)\n",
    "        else:\n",
    "            # If the last marker is exactly at or beyond the end of the data, append an empty segment\n",
    "            segments.append([])\n",
    "\n",
    "        all_segments.append(segments)\n",
    "\n",
    "    return all_segments\n",
    "\n",
    "def split_video(input_file, time_segments, output_folder):\n",
    "    cap = cv2.VideoCapture(input_file)\n",
    "    fps = cap.get(cv2.CAP_PROP_FPS)\n",
    "    frame_count = int(cap.get(cv2.CAP_PROP_FRAME_COUNT))\n",
    "    duration = frame_count / fps\n",
    "    print(f'Video FPS: {fps}')\n",
    "    print(f'Video duration: {duration} seconds')\n",
    "    print(f'Number of time segments: {frame_count}')\n",
    "    \n",
    "    file_name = os.path.splitext(os.path.basename(input_file))[0]\n",
    "    output_folder = os.path.join(output_folder, file_name)\n",
    "    os.makedirs(output_folder, exist_ok=True)\n",
    "    \n",
    "    for (start_frame, end_frame, segment_name) in tqdm(time_segments):\n",
    "        output_path = os.path.join(output_folder, f'{segment_name}.avi')\n",
    "\n",
    "        # Set the video capture to the start frame\n",
    "        cap.set(cv2.CAP_PROP_POS_FRAMES, int(start_frame))\n",
    "        # Define the codec and create VideoWriter object\n",
    "        fourcc = cv2.VideoWriter_fourcc(*'XVID')\n",
    "        out = cv2.VideoWriter(output_path, fourcc, fps,\n",
    "                              (int(cap.get(3)), int(cap.get(4))))\n",
    "\n",
    "        # Read and write frames from start to end\n",
    "        for _ in range(int(start_frame), int(end_frame)):\n",
    "            ret, frame = cap.read()\n",
    "            if not ret:\n",
    "                break\n",
    "            out.write(frame)\n",
    "        out.release()\n",
    "\n",
    "    cap.release()"
   ]
  },
  {
   "cell_type": "code",
   "execution_count": null,
   "metadata": {},
   "outputs": [],
   "source": [
    "EXP_ROOT = \"exp_data\"\n",
    "INPUT_ROOT = \"input\"\n",
    "OUTPUT_ROOT = \"output\"\n",
    "sub_id = \"461739\"\n",
    "DATA_FILE = os.path.join(EXP_ROOT,f\"sub-{sub_id}\", f\"sub-{sub_id}_task-hearing_run-001.xdf\")\n",
    "RAW_VIDEO = os.path.join(INPUT_ROOT,f\"{sub_id}.avi\")\n",
    "data, header = pyxdf.load_xdf(DATA_FILE)\n",
    "# DATA_FILE = os.path.join(EXP_ROOT,\"sub-P001_ses-S001_task-Default_run-001_eeg.xdf\")\n",
    "# DATA_FILE = os.path.join(f\"C:\\\\Users\\\\anarg\\\\Documents\\\\CurrentStudy\\\\sub-{i}\\\\sub-{i}_task-hearing_run-001.xdf\")\n",
    "marker_stream = next(stream for stream in data if stream['info']['type'][0] == 'Markers')\n",
    "video_stream = next(stream for stream in data if stream['info']['type'][0] == 'Video')\n",
    "ppg_stream = next(stream for stream in data if stream['info']['type'][0] == 'PPG')"
   ]
  },
  {
   "cell_type": "code",
   "execution_count": null,
   "metadata": {},
   "outputs": [],
   "source": [
    "time_stamps_list = [video_stream['time_stamps'], ppg_stream['time_stamps']]\n",
    "modality_list = [video_stream['time_series'].squeeze(), ppg_stream['time_series'].squeeze()]\n",
    "segments = segment_modalities_optimized(marker_stream['time_stamps'],time_stamps_list,modality_list)\n",
    "segmented_video_frames = segments[0]\n",
    "segmented_ppg = segments[1]\n",
    "markers = marker_stream['time_series']\n",
    "print(f\"Length of video segments: {len(segmented_video_frames)}, Length of PPG: {len(segmented_ppg)}, Length of Markers: {len(markers)}\")\n",
    "print(markers)\n",
    "segment_arr = [(segmented_video_frames[i][0], segmented_video_frames[i][-1], markers[i][0]) for i in range(len(segmented_video_frames))]\n",
    "print(segment_arr)"
   ]
  },
  {
   "cell_type": "code",
   "execution_count": null,
   "metadata": {},
   "outputs": [],
   "source": [
    "split_video(RAW_VIDEO, segment_arr, OUTPUT_ROOT)"
   ]
  },
  {
   "cell_type": "code",
   "execution_count": null,
   "metadata": {},
   "outputs": [],
   "source": [
    "for s in segment_arr:\n",
    "    print(f\"Start: {s[0]:.2f}, End: {s[1]:.2f}, Marker: {s[2]}, Duration: {(s[1]-s[0])/30:.2f}\")"
   ]
  }
 ],
 "metadata": {
  "kernelspec": {
   "display_name": "lsl",
   "language": "python",
   "name": "python3"
  },
  "language_info": {
   "codemirror_mode": {
    "name": "ipython",
    "version": 3
   },
   "file_extension": ".py",
   "mimetype": "text/x-python",
   "name": "python",
   "nbconvert_exporter": "python",
   "pygments_lexer": "ipython3",
   "version": "3.11.8"
  }
 },
 "nbformat": 4,
 "nbformat_minor": 2
}
