{
 "cells": [
  {
   "cell_type": "code",
   "execution_count": 1,
   "metadata": {},
   "outputs": [],
   "source": [
    "import pyxdf\n",
    "import numpy as np\n",
    "import subprocess\n",
    "import os\n",
    "from tqdm import tqdm"
   ]
  },
  {
   "cell_type": "code",
   "execution_count": 33,
   "metadata": {},
   "outputs": [],
   "source": [
    "def segment_modalities_optimized(marker_timestamps, modality_timestamps, modality_data):\n",
    "    \"\"\"\n",
    "    Optimized segmentation of data for a modality based on marker timestamps, accommodating different sampling rates.\n",
    "\n",
    "    :param marker_timestamps: Timestamps of markers.\n",
    "    :param modality_timestamps: Timestamps of the modality data.\n",
    "    :param modality_data: Data of the modality to be segmented.\n",
    "    :return: A list of data segments for the modality.\n",
    "    \"\"\"\n",
    "    # Convert to numpy arrays for efficient computation\n",
    "    marker_timestamps = np.array(marker_timestamps)\n",
    "    modality_timestamps = np.array(modality_timestamps)\n",
    "\n",
    "    # Find insertion points for each marker in the modality timestamps\n",
    "    insert_points = np.searchsorted(modality_timestamps, marker_timestamps)\n",
    "    segments = []\n",
    "    for i in range(len(insert_points) - 1):\n",
    "        # Extract and store the segment\n",
    "        start_index = insert_points[i]\n",
    "        end_index = insert_points[i + 1]\n",
    "        segment = modality_data[start_index:end_index]\n",
    "        segments.append(segment)\n",
    "\n",
    "    # Handle the last segment, from the last marker to the end of the data stream\n",
    "    if insert_points[-1] < len(modality_data):\n",
    "        last_segment = modality_data[insert_points[-1]:]\n",
    "        segments.append(last_segment)\n",
    "    else:\n",
    "        # If the last marker is exactly at or beyond the end of the data, append an empty segment\n",
    "        segments.append([])\n",
    "\n",
    "    return segments\n",
    "\n",
    "def split_video(input_file, time_segments, output_folder):\n",
    "    \"\"\"\n",
    "    Split a video into multiple parts based on a list of start and end times in seconds using FFmpeg.\n",
    "\n",
    "    Args:\n",
    "    input_file (str): Path to the input video file.\n",
    "    time_segments (list of tuples): List of (start_time, end_time) tuples in seconds.\n",
    "    output_folder (str): Folder to store the output segments.\n",
    "    \"\"\"\n",
    "    # Create the output folder if it doesn't exist\n",
    "    file_name = os.path.splitext(os.path.basename(input_file))[0]\n",
    "    output_folder = os.path.join(output_folder, file_name)\n",
    "    os.makedirs(output_folder, exist_ok=True)\n",
    "\n",
    "    # Process each segment\n",
    "    for (start_time, end_time, segment_name) in tqdm(time_segments):\n",
    "        output_path = os.path.join(output_folder, f'{segment_name}.mp4')\n",
    "        command = [\n",
    "            'ffmpeg',\n",
    "            '-i', input_file,             # Input file path\n",
    "            '-ss', f'{start_time:.2f}',       # Start time of the segment in seconds\n",
    "            '-to',f'{end_time:.2f}',         # End time of the segment in seconds\n",
    "            '-c:v', 'libx264',        # Use H.264 codec\n",
    "            '-preset', 'fast',            # Use fast encoding\n",
    "            '-crf', '18',              # Constant Rate Factor (0-51, 0 - lossless, 23 - default, 51 - worst)\n",
    "            output_path                   # Output file path\n",
    "        ]\n",
    "        subprocess.run(command, stdout=subprocess.PIPE, stderr=subprocess.PIPE)\n"
   ]
  },
  {
   "cell_type": "code",
   "execution_count": 31,
   "metadata": {},
   "outputs": [],
   "source": [
    "EXP_ROOT = \"exp_data\"\n",
    "INPUT_ROOT = \"input\"\n",
    "OUTPUT_ROOT = \"output\"\n",
    "DATA_FILE = os.path.join(EXP_ROOT,\"short-passive.xdf\")\n",
    "RAW_VIDEO = os.path.join(INPUT_ROOT,\"one-repeat.mp4\")\n",
    "FRAME_RATE = 30.0\n",
    "data, header = pyxdf.load_xdf(DATA_FILE)"
   ]
  },
  {
   "cell_type": "code",
   "execution_count": 4,
   "metadata": {},
   "outputs": [],
   "source": [
    "marker_stream = [d for d in data if d['info']['type'][0] == 'Markers'][0]\n",
    "video_stream = [d for d in data if d['info']['type'][0] == 'videostream'][0]\n",
    "# eeg_stream = [d for d in data if d['info']['type'][0] == 'EEG'][0]"
   ]
  },
  {
   "cell_type": "code",
   "execution_count": 5,
   "metadata": {},
   "outputs": [
    {
     "name": "stdout",
     "output_type": "stream",
     "text": [
      "Length of video segments: 8, Length of Markers: 8\n",
      "[['range-black'], ['range-gray'], ['pre-stim-babycry'], ['stim-babycry'], ['poststim-babycry'], ['pre-stim-chewing'], ['stim-chewing'], ['poststim-chewing']]\n",
      "[(40.8, 45.8, 'range-black'), (45.833333333333336, 50.766666666666666, 'range-gray'), (50.8, 53.8, 'pre-stim-babycry'), (53.833333333333336, 59.8, 'stim-babycry'), (59.833333333333336, 64.83333333333333, 'poststim-babycry'), (64.86666666666666, 67.83333333333333, 'pre-stim-chewing'), (67.86666666666666, 72.56666666666666, 'stim-chewing'), (72.6, 77.26666666666667, 'poststim-chewing')]\n"
     ]
    }
   ],
   "source": [
    "segmented_video_frames = segment_modalities_optimized(marker_stream['time_stamps'], video_stream['time_stamps'], video_stream['time_series'].squeeze())\n",
    "markers = marker_stream['time_series']\n",
    "print(f\"Length of video segments: {len(segmented_video_frames)}, Length of Markers: {len(markers)}\")\n",
    "print(markers)\n",
    "segment_arr = [(segmented_video_frames[i][0]/FRAME_RATE, segmented_video_frames[i][-1]/FRAME_RATE, markers[i][0]) for i in range(len(segmented_video_frames))]\n",
    "print(segment_arr)"
   ]
  },
  {
   "cell_type": "code",
   "execution_count": 34,
   "metadata": {},
   "outputs": [
    {
     "name": "stderr",
     "output_type": "stream",
     "text": [
      "100%|██████████| 8/8 [00:20<00:00,  2.61s/it]\n"
     ]
    }
   ],
   "source": [
    "split_video(RAW_VIDEO, segment_arr, OUTPUT_ROOT)"
   ]
  },
  {
   "cell_type": "code",
   "execution_count": 21,
   "metadata": {},
   "outputs": [
    {
     "name": "stdout",
     "output_type": "stream",
     "text": [
      "Start: 40.80, End: 45.80, Marker: range-black, Duration: 5.00\n",
      "Start: 45.83, End: 50.77, Marker: range-gray, Duration: 4.93\n",
      "Start: 50.80, End: 53.80, Marker: pre-stim-babycry, Duration: 3.00\n",
      "Start: 53.83, End: 59.80, Marker: stim-babycry, Duration: 5.97\n",
      "Start: 59.83, End: 64.83, Marker: poststim-babycry, Duration: 5.00\n",
      "Start: 64.87, End: 67.83, Marker: pre-stim-chewing, Duration: 2.97\n",
      "Start: 67.87, End: 72.57, Marker: stim-chewing, Duration: 4.70\n",
      "Start: 72.60, End: 77.27, Marker: poststim-chewing, Duration: 4.67\n"
     ]
    }
   ],
   "source": [
    "for s in segment_arr:\n",
    "    print(f\"Start: {s[0]:.2f}, End: {s[1]:.2f}, Marker: {s[2]}, Duration: {s[1]-s[0]:.2f}\")"
   ]
  }
 ],
 "metadata": {
  "kernelspec": {
   "display_name": "lsl",
   "language": "python",
   "name": "python3"
  },
  "language_info": {
   "codemirror_mode": {
    "name": "ipython",
    "version": 3
   },
   "file_extension": ".py",
   "mimetype": "text/x-python",
   "name": "python",
   "nbconvert_exporter": "python",
   "pygments_lexer": "ipython3",
   "version": "3.11.8"
  }
 },
 "nbformat": 4,
 "nbformat_minor": 2
}
