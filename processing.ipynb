{
 "cells": [
  {
   "cell_type": "code",
   "execution_count": 1,
   "metadata": {},
   "outputs": [],
   "source": [
    "import pyxdf\n",
    "import numpy as np\n",
    "import subprocess\n",
    "import os\n",
    "from tqdm import tqdm"
   ]
  },
  {
   "cell_type": "code",
   "execution_count": 2,
   "metadata": {},
   "outputs": [],
   "source": [
    "def segment_modalities_optimized(marker_timestamps, modality_timestamps, modality_data):\n",
    "    \"\"\"\n",
    "    Optimized segmentation of data for a modality based on marker timestamps, accommodating different sampling rates.\n",
    "\n",
    "    :param marker_timestamps: Timestamps of markers.\n",
    "    :param modality_timestamps: Timestamps of the modality data.\n",
    "    :param modality_data: Data of the modality to be segmented.\n",
    "    :return: A list of data segments for the modality.\n",
    "    \"\"\"\n",
    "    # Convert to numpy arrays for efficient computation\n",
    "    marker_timestamps = np.array(marker_timestamps)\n",
    "    modality_timestamps = np.array(modality_timestamps)\n",
    "\n",
    "    # Find insertion points for each marker in the modality timestamps\n",
    "    insert_points = np.searchsorted(modality_timestamps, marker_timestamps)\n",
    "    segments = []\n",
    "    for i in range(len(insert_points) - 1):\n",
    "        # Extract and store the segment\n",
    "        start_index = insert_points[i]\n",
    "        end_index = insert_points[i + 1]\n",
    "        segment = modality_data[start_index:end_index]\n",
    "        segments.append(segment)\n",
    "\n",
    "    # Handle the last segment, from the last marker to the end of the data stream\n",
    "    if insert_points[-1] < len(modality_data):\n",
    "        last_segment = modality_data[insert_points[-1]:]\n",
    "        segments.append(last_segment)\n",
    "    else:\n",
    "        # If the last marker is exactly at or beyond the end of the data, append an empty segment\n",
    "        segments.append([])\n",
    "\n",
    "    return segments\n",
    "\n",
    "def split_video(input_file, time_segments, output_folder):\n",
    "    \"\"\"\n",
    "    Split a video into multiple parts based on a list of start and end times in seconds using FFmpeg.\n",
    "\n",
    "    Args:\n",
    "    input_file (str): Path to the input video file.\n",
    "    time_segments (list of tuples): List of (start_time, end_time) tuples in seconds.\n",
    "    output_folder (str): Folder to store the output segments.\n",
    "    \"\"\"\n",
    "    # Create the output folder if it doesn't exist\n",
    "    file_name = os.path.splitext(os.path.basename(input_file))[0]\n",
    "    output_folder = os.path.join(output_folder, file_name)\n",
    "    os.makedirs(output_folder, exist_ok=True)\n",
    "\n",
    "    # Process each segment\n",
    "    for (start_time, end_time, segment_name) in tqdm(time_segments):\n",
    "        output_path = os.path.join(output_folder, f'{segment_name}.mp4')\n",
    "        command = [\n",
    "            'ffmpeg',\n",
    "            '-i', input_file,             # Input file path\n",
    "            '-ss', f'{start_time:.2f}',       # Start time of the segment in seconds\n",
    "            '-to',f'{end_time:.2f}',         # End time of the segment in seconds\n",
    "            '-c:v', 'libx264',        # Use H.264 codec\n",
    "            '-preset', 'fast',            # Use fast encoding\n",
    "            '-crf', '18',              # Constant Rate Factor (0-51, 0 - lossless, 23 - default, 51 - worst)\n",
    "            output_path                   # Output file path\n",
    "        ]\n",
    "        subprocess.run(command, stdout=subprocess.PIPE, stderr=subprocess.PIPE)\n"
   ]
  },
  {
   "cell_type": "code",
   "execution_count": 11,
   "metadata": {},
   "outputs": [
    {
     "name": "stderr",
     "output_type": "stream",
     "text": [
      "Stream 1: Calculated effective sampling rate 26.4344 Hz is different from specified rate 30.0000 Hz.\n"
     ]
    }
   ],
   "source": [
    "EXP_ROOT = \"exp_data\"\n",
    "INPUT_ROOT = \"input\"\n",
    "OUTPUT_ROOT = \"output\"\n",
    "DATA_FILE = os.path.join(EXP_ROOT,\"sub-1_task-passive.xdf\")\n",
    "RAW_VIDEO = os.path.join(INPUT_ROOT,\"2024-05-18_01-08.mp4\")\n",
    "TIME_FACTOR = 1000000 # conversion from microseconds to seconds\n",
    "data, header = pyxdf.load_xdf(DATA_FILE)"
   ]
  },
  {
   "cell_type": "code",
   "execution_count": 4,
   "metadata": {},
   "outputs": [],
   "source": [
    "marker_stream = [d for d in data if d['info']['type'][0] == 'Markers'][0]\n",
    "video_stream = [d for d in data if d['info']['type'][0] == 'videostream'][0]\n",
    "# eeg_stream = [d for d in data if d['info']['type'][0] == 'EEG'][0]"
   ]
  },
  {
   "cell_type": "code",
   "execution_count": 13,
   "metadata": {},
   "outputs": [
    {
     "name": "stdout",
     "output_type": "stream",
     "text": [
      "Length of video segments: 16, Length of Markers: 16\n",
      "[['range-gray'], ['pre-stim-chewing'], ['stim-chewing'], ['poststim-chewing'], ['pre-stim-seawave'], ['stim-seawave'], ['poststim-seawave'], ['pre-stim-engine'], ['stim-engine'], ['poststim-engine'], ['pre-stim-babycry'], ['stim-babycry'], ['poststim-babycry'], ['pre-stim-typing'], ['stim-typing'], ['poststim-typing']]\n",
      "[(18.821308, 21.752772, 'range-gray'), (21.786064, 24.750838, 'pre-stim-chewing'), (24.784136, 29.447832, 'stim-chewing'), (29.481152, 32.445896, 'poststim-chewing'), (32.479224, 35.410668, 'pre-stim-seawave'), (35.443988, 41.406844, 'stim-seawave'), (41.44016, 44.404912, 'poststim-seawave'), (44.43822, 47.403, 'pre-stim-engine'), (47.436304, 51.400436, 'stim-engine'), (51.43374, 54.365224, 'poststim-engine'), (54.398512, 57.363288, 'pre-stim-babycry'), (57.3966, 63.426112, 'stim-babycry'), (63.459384, 66.424152, 'poststim-babycry'), (66.457472, 69.422232, 'pre-stim-typing'), (69.455544, 73.652864, 'stim-typing'), (73.686168, 76.517696, 'poststim-typing')]\n"
     ]
    }
   ],
   "source": [
    "segmented_video_frames = segment_modalities_optimized(marker_stream['time_stamps'], video_stream['time_stamps'], video_stream['time_series'].squeeze())\n",
    "markers = marker_stream['time_series']\n",
    "print(f\"Length of video segments: {len(segmented_video_frames)}, Length of Markers: {len(markers)}\")\n",
    "print(markers)\n",
    "segment_arr = [(segmented_video_frames[i][0]/TIME_FACTOR, segmented_video_frames[i][-1]/TIME_FACTOR, markers[i][0]) for i in range(len(segmented_video_frames))]\n",
    "print(segment_arr)"
   ]
  },
  {
   "cell_type": "code",
   "execution_count": 14,
   "metadata": {},
   "outputs": [
    {
     "name": "stderr",
     "output_type": "stream",
     "text": [
      "  0%|          | 0/16 [00:00<?, ?it/s]"
     ]
    },
    {
     "name": "stderr",
     "output_type": "stream",
     "text": [
      "100%|██████████| 16/16 [00:42<00:00,  2.65s/it]\n"
     ]
    }
   ],
   "source": [
    "split_video(RAW_VIDEO, segment_arr, OUTPUT_ROOT)"
   ]
  },
  {
   "cell_type": "code",
   "execution_count": 15,
   "metadata": {},
   "outputs": [
    {
     "name": "stdout",
     "output_type": "stream",
     "text": [
      "Start: 18.82, End: 21.75, Marker: range-gray, Duration: 2.93\n",
      "Start: 21.79, End: 24.75, Marker: pre-stim-chewing, Duration: 2.96\n",
      "Start: 24.78, End: 29.45, Marker: stim-chewing, Duration: 4.66\n",
      "Start: 29.48, End: 32.45, Marker: poststim-chewing, Duration: 2.96\n",
      "Start: 32.48, End: 35.41, Marker: pre-stim-seawave, Duration: 2.93\n",
      "Start: 35.44, End: 41.41, Marker: stim-seawave, Duration: 5.96\n",
      "Start: 41.44, End: 44.40, Marker: poststim-seawave, Duration: 2.96\n",
      "Start: 44.44, End: 47.40, Marker: pre-stim-engine, Duration: 2.96\n",
      "Start: 47.44, End: 51.40, Marker: stim-engine, Duration: 3.96\n",
      "Start: 51.43, End: 54.37, Marker: poststim-engine, Duration: 2.93\n",
      "Start: 54.40, End: 57.36, Marker: pre-stim-babycry, Duration: 2.96\n",
      "Start: 57.40, End: 63.43, Marker: stim-babycry, Duration: 6.03\n",
      "Start: 63.46, End: 66.42, Marker: poststim-babycry, Duration: 2.96\n",
      "Start: 66.46, End: 69.42, Marker: pre-stim-typing, Duration: 2.96\n",
      "Start: 69.46, End: 73.65, Marker: stim-typing, Duration: 4.20\n",
      "Start: 73.69, End: 76.52, Marker: poststim-typing, Duration: 2.83\n"
     ]
    }
   ],
   "source": [
    "for s in segment_arr:\n",
    "    print(f\"Start: {s[0]:.2f}, End: {s[1]:.2f}, Marker: {s[2]}, Duration: {s[1]-s[0]:.2f}\")"
   ]
  }
 ],
 "metadata": {
  "kernelspec": {
   "display_name": "lsl",
   "language": "python",
   "name": "python3"
  },
  "language_info": {
   "codemirror_mode": {
    "name": "ipython",
    "version": 3
   },
   "file_extension": ".py",
   "mimetype": "text/x-python",
   "name": "python",
   "nbconvert_exporter": "python",
   "pygments_lexer": "ipython3",
   "version": "3.11.8"
  }
 },
 "nbformat": 4,
 "nbformat_minor": 2
}
