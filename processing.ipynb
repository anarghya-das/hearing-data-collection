{
 "cells": [
  {
   "cell_type": "code",
   "execution_count": 8,
   "metadata": {},
   "outputs": [],
   "source": [
    "import pyxdf\n",
    "import numpy as np\n",
    "import subprocess\n",
    "import os\n",
    "from tqdm import tqdm"
   ]
  },
  {
   "cell_type": "code",
   "execution_count": 9,
   "metadata": {},
   "outputs": [],
   "source": [
    "def segment_modalities_optimized(marker_timestamps, modality_timestamps, modality_data):\n",
    "    \"\"\"\n",
    "    Optimized segmentation of data for a modality based on marker timestamps, accommodating different sampling rates.\n",
    "\n",
    "    :param marker_timestamps: Timestamps of markers.\n",
    "    :param modality_timestamps: Timestamps of the modality data.\n",
    "    :param modality_data: Data of the modality to be segmented.\n",
    "    :return: A list of data segments for the modality.\n",
    "    \"\"\"\n",
    "    # Convert to numpy arrays for efficient computation\n",
    "    marker_timestamps = np.array(marker_timestamps)\n",
    "    modality_timestamps = np.array(modality_timestamps)\n",
    "\n",
    "    # Find insertion points for each marker in the modality timestamps\n",
    "    insert_points = np.searchsorted(modality_timestamps, marker_timestamps)\n",
    "    segments = []\n",
    "    for i in range(len(insert_points) - 1):\n",
    "        # Extract and store the segment\n",
    "        start_index = insert_points[i]\n",
    "        end_index = insert_points[i + 1]\n",
    "        segment = modality_data[start_index:end_index]\n",
    "        segments.append(segment)\n",
    "\n",
    "    # Handle the last segment, from the last marker to the end of the data stream\n",
    "    if insert_points[-1] < len(modality_data):\n",
    "        last_segment = modality_data[insert_points[-1]:]\n",
    "        segments.append(last_segment)\n",
    "    else:\n",
    "        # If the last marker is exactly at or beyond the end of the data, append an empty segment\n",
    "        segments.append([])\n",
    "\n",
    "    return segments\n",
    "\n",
    "def split_video(input_file, time_segments, output_folder):\n",
    "    \"\"\"\n",
    "    Split a video into multiple parts based on a list of start and end times in seconds using FFmpeg.\n",
    "\n",
    "    Args:\n",
    "    input_file (str): Path to the input video file.\n",
    "    time_segments (list of tuples): List of (start_time, end_time) tuples in seconds.\n",
    "    output_folder (str): Folder to store the output segments.\n",
    "    \"\"\"\n",
    "    # Create the output folder if it doesn't exist\n",
    "    file_name = os.path.splitext(os.path.basename(input_file))[0]\n",
    "    output_folder = os.path.join(output_folder, file_name)\n",
    "    os.makedirs(output_folder, exist_ok=True)\n",
    "\n",
    "    # Process each segment\n",
    "    for (start_time, end_time, segment_name) in tqdm(time_segments):\n",
    "        output_path = os.path.join(output_folder, f'{segment_name}.mp4')\n",
    "        command = [\n",
    "            'ffmpeg',\n",
    "            '-i', input_file,             # Input file path\n",
    "            '-ss', f'{start_time:.2f}',       # Start time of the segment in seconds\n",
    "            '-to',f'{end_time:.2f}',         # End time of the segment in seconds\n",
    "            '-c:v', 'libx264',        # Use H.264 codec\n",
    "            '-preset', 'fast',            # Use fast encoding\n",
    "            '-crf', '18',              # Constant Rate Factor (0-51, 0 - lossless, 23 - default, 51 - worst)\n",
    "            output_path                   # Output file path\n",
    "        ]\n",
    "        subprocess.run(command, stdout=subprocess.PIPE, stderr=subprocess.PIPE)\n"
   ]
  },
  {
   "cell_type": "code",
   "execution_count": 10,
   "metadata": {},
   "outputs": [],
   "source": [
    "EXP_ROOT = \"exp_data\"\n",
    "INPUT_ROOT = \"input\"\n",
    "OUTPUT_ROOT = \"output\"\n",
    "DATA_FILE = os.path.join(EXP_ROOT,\"sub-441364_task-hearing_run-001.xdf\")\n",
    "# RAW_VIDEO = os.path.join(INPUT_ROOT,\"2024-05-18_01-08.mp4\")\n",
    "TIME_FACTOR = 1000000 # conversion from microseconds to seconds\n",
    "data, header = pyxdf.load_xdf(DATA_FILE)"
   ]
  },
  {
   "cell_type": "code",
   "execution_count": 13,
   "metadata": {},
   "outputs": [
    {
     "data": {
      "text/plain": [
       "{'info': defaultdict(list,\n",
       "             {'name': ['HearingMarkerStream'],\n",
       "              'type': ['Markers'],\n",
       "              'channel_count': ['1'],\n",
       "              'channel_format': ['string'],\n",
       "              'source_id': ['hearingid2023'],\n",
       "              'nominal_srate': ['0.000000000000000'],\n",
       "              'version': ['1.100000000000000'],\n",
       "              'created_at': ['54276.30560512500'],\n",
       "              'uid': ['c25f7fe7-d293-4734-9605-d594718041b9'],\n",
       "              'session_id': ['default'],\n",
       "              'hostname': ['Anarghyas-MacBook-Pro.local'],\n",
       "              'v4address': [None],\n",
       "              'v4data_port': ['16572'],\n",
       "              'v4service_port': ['16572'],\n",
       "              'v6address': [None],\n",
       "              'v6data_port': ['0'],\n",
       "              'v6service_port': ['0'],\n",
       "              'desc': [None],\n",
       "              'stream_id': 2,\n",
       "              'effective_srate': 0}),\n",
       " 'footer': {'info': defaultdict(list,\n",
       "              {'first_timestamp': ['54295.246030833'],\n",
       "               'last_timestamp': ['54304.200540791'],\n",
       "               'sample_count': ['6'],\n",
       "               'clock_offsets': [defaultdict(list,\n",
       "                            {'offset': [defaultdict(list,\n",
       "                                          {'time': ['54298.6261890625'],\n",
       "                                           'value': ['-4.56249836133793e-06']}),\n",
       "                              defaultdict(list,\n",
       "                                          {'time': ['54303.63121412401'],\n",
       "                                           'value': ['-1.133300247602165e-05']}),\n",
       "                              defaultdict(list,\n",
       "                                          {'time': ['54308.635277979'],\n",
       "                                           'value': ['-1.681300273048691e-05']})]})]})},\n",
       " 'time_series': [['poststim-seawave'],\n",
       "  ['response-seawave'],\n",
       "  ['rest'],\n",
       "  ['stim-babycry'],\n",
       "  ['poststim-babycry'],\n",
       "  ['response-babycry'],\n",
       "  ['rest']],\n",
       " 'time_stamps': array([54295.24603019, 54295.24604815, 54296.23343023, 54297.22350998,\n",
       "        54303.2128739 , 54303.2128939 , 54304.20052919])}"
      ]
     },
     "execution_count": 13,
     "metadata": {},
     "output_type": "execute_result"
    }
   ],
   "source": [
    "marker_stream = data[0]\n",
    "marker_stream"
   ]
  },
  {
   "cell_type": "code",
   "execution_count": null,
   "metadata": {},
   "outputs": [],
   "source": [
    "segmented_video_frames = segment_modalities_optimized(marker_stream['time_stamps'], video_stream['time_stamps'], np.array(video_stream['time_series']).squeeze())\n",
    "markers = marker_stream['time_series']\n",
    "print(f\"Length of video segments: {len(segmented_video_frames)}, Length of Markers: {len(markers)}\")\n",
    "print(markers)"
   ]
  },
  {
   "cell_type": "code",
   "execution_count": null,
   "metadata": {},
   "outputs": [],
   "source": [
    "markers"
   ]
  },
  {
   "cell_type": "code",
   "execution_count": null,
   "metadata": {},
   "outputs": [],
   "source": [
    "segmented_video_frames[6]"
   ]
  },
  {
   "cell_type": "code",
   "execution_count": null,
   "metadata": {},
   "outputs": [],
   "source": [
    "segmented_video_frames = segment_modalities_optimized(marker_stream['time_stamps'], video_stream['time_stamps'], video_stream['time_series'].squeeze())\n",
    "markers = marker_stream['time_series']\n",
    "print(f\"Length of video segments: {len(segmented_video_frames)}, Length of Markers: {len(markers)}\")\n",
    "print(markers)\n",
    "segment_arr = [(segmented_video_frames[i][0]/TIME_FACTOR, segmented_video_frames[i][-1]/TIME_FACTOR, markers[i][0]) for i in range(len(segmented_video_frames))]\n",
    "print(segment_arr)"
   ]
  },
  {
   "cell_type": "code",
   "execution_count": null,
   "metadata": {},
   "outputs": [],
   "source": [
    "split_video(RAW_VIDEO, segment_arr, OUTPUT_ROOT)"
   ]
  },
  {
   "cell_type": "code",
   "execution_count": null,
   "metadata": {},
   "outputs": [],
   "source": [
    "for s in segment_arr:\n",
    "    print(f\"Start: {s[0]:.2f}, End: {s[1]:.2f}, Marker: {s[2]}, Duration: {s[1]-s[0]:.2f}\")"
   ]
  }
 ],
 "metadata": {
  "kernelspec": {
   "display_name": "lsl",
   "language": "python",
   "name": "python3"
  },
  "language_info": {
   "codemirror_mode": {
    "name": "ipython",
    "version": 3
   },
   "file_extension": ".py",
   "mimetype": "text/x-python",
   "name": "python",
   "nbconvert_exporter": "python",
   "pygments_lexer": "ipython3",
   "version": "3.11.8"
  }
 },
 "nbformat": 4,
 "nbformat_minor": 2
}
